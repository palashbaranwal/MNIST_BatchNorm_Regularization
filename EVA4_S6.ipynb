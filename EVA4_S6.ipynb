{
  "nbformat": 4,
  "nbformat_minor": 0,
  "metadata": {
    "colab": {
      "name": "EVA4_S6",
      "provenance": [],
      "collapsed_sections": [],
      "include_colab_link": true
    },
    "kernelspec": {
      "name": "python3",
      "display_name": "Python 3"
    },
    "accelerator": "GPU",
    "widgets": {
      "application/vnd.jupyter.widget-state+json": {
        "0775ca96e4d84328bc7e61426c86255c": {
          "model_module": "@jupyter-widgets/controls",
          "model_name": "HBoxModel",
          "state": {
            "_view_name": "HBoxView",
            "_dom_classes": [],
            "_model_name": "HBoxModel",
            "_view_module": "@jupyter-widgets/controls",
            "_model_module_version": "1.5.0",
            "_view_count": null,
            "_view_module_version": "1.5.0",
            "box_style": "",
            "layout": "IPY_MODEL_803c793405964789a681bd9a7715d510",
            "_model_module": "@jupyter-widgets/controls",
            "children": [
              "IPY_MODEL_ae3b571926434ce0b394a8080e44dd53",
              "IPY_MODEL_9dab4f395d134e759eeae8b844016e51"
            ]
          }
        },
        "803c793405964789a681bd9a7715d510": {
          "model_module": "@jupyter-widgets/base",
          "model_name": "LayoutModel",
          "state": {
            "_view_name": "LayoutView",
            "grid_template_rows": null,
            "right": null,
            "justify_content": null,
            "_view_module": "@jupyter-widgets/base",
            "overflow": null,
            "_model_module_version": "1.2.0",
            "_view_count": null,
            "flex_flow": null,
            "width": null,
            "min_width": null,
            "border": null,
            "align_items": null,
            "bottom": null,
            "_model_module": "@jupyter-widgets/base",
            "top": null,
            "grid_column": null,
            "overflow_y": null,
            "overflow_x": null,
            "grid_auto_flow": null,
            "grid_area": null,
            "grid_template_columns": null,
            "flex": null,
            "_model_name": "LayoutModel",
            "justify_items": null,
            "grid_row": null,
            "max_height": null,
            "align_content": null,
            "visibility": null,
            "align_self": null,
            "height": null,
            "min_height": null,
            "padding": null,
            "grid_auto_rows": null,
            "grid_gap": null,
            "max_width": null,
            "order": null,
            "_view_module_version": "1.2.0",
            "grid_template_areas": null,
            "object_position": null,
            "object_fit": null,
            "grid_auto_columns": null,
            "margin": null,
            "display": null,
            "left": null
          }
        },
        "ae3b571926434ce0b394a8080e44dd53": {
          "model_module": "@jupyter-widgets/controls",
          "model_name": "IntProgressModel",
          "state": {
            "_view_name": "ProgressView",
            "style": "IPY_MODEL_8426f8449cd44608a83e4d4c5955625e",
            "_dom_classes": [],
            "description": "",
            "_model_name": "IntProgressModel",
            "bar_style": "success",
            "max": 1,
            "_view_module": "@jupyter-widgets/controls",
            "_model_module_version": "1.5.0",
            "value": 1,
            "_view_count": null,
            "_view_module_version": "1.5.0",
            "orientation": "horizontal",
            "min": 0,
            "description_tooltip": null,
            "_model_module": "@jupyter-widgets/controls",
            "layout": "IPY_MODEL_0dccfccd7730490eb1f5ff1fe48827af"
          }
        },
        "9dab4f395d134e759eeae8b844016e51": {
          "model_module": "@jupyter-widgets/controls",
          "model_name": "HTMLModel",
          "state": {
            "_view_name": "HTMLView",
            "style": "IPY_MODEL_80a4a13201014adaaf569d95496db40c",
            "_dom_classes": [],
            "description": "",
            "_model_name": "HTMLModel",
            "placeholder": "​",
            "_view_module": "@jupyter-widgets/controls",
            "_model_module_version": "1.5.0",
            "value": "9920512it [00:06, 1618445.69it/s]",
            "_view_count": null,
            "_view_module_version": "1.5.0",
            "description_tooltip": null,
            "_model_module": "@jupyter-widgets/controls",
            "layout": "IPY_MODEL_788b7bfd7c334a22a3b87f902204e103"
          }
        },
        "8426f8449cd44608a83e4d4c5955625e": {
          "model_module": "@jupyter-widgets/controls",
          "model_name": "ProgressStyleModel",
          "state": {
            "_view_name": "StyleView",
            "_model_name": "ProgressStyleModel",
            "description_width": "",
            "_view_module": "@jupyter-widgets/base",
            "_model_module_version": "1.5.0",
            "_view_count": null,
            "_view_module_version": "1.2.0",
            "bar_color": null,
            "_model_module": "@jupyter-widgets/controls"
          }
        },
        "0dccfccd7730490eb1f5ff1fe48827af": {
          "model_module": "@jupyter-widgets/base",
          "model_name": "LayoutModel",
          "state": {
            "_view_name": "LayoutView",
            "grid_template_rows": null,
            "right": null,
            "justify_content": null,
            "_view_module": "@jupyter-widgets/base",
            "overflow": null,
            "_model_module_version": "1.2.0",
            "_view_count": null,
            "flex_flow": null,
            "width": null,
            "min_width": null,
            "border": null,
            "align_items": null,
            "bottom": null,
            "_model_module": "@jupyter-widgets/base",
            "top": null,
            "grid_column": null,
            "overflow_y": null,
            "overflow_x": null,
            "grid_auto_flow": null,
            "grid_area": null,
            "grid_template_columns": null,
            "flex": null,
            "_model_name": "LayoutModel",
            "justify_items": null,
            "grid_row": null,
            "max_height": null,
            "align_content": null,
            "visibility": null,
            "align_self": null,
            "height": null,
            "min_height": null,
            "padding": null,
            "grid_auto_rows": null,
            "grid_gap": null,
            "max_width": null,
            "order": null,
            "_view_module_version": "1.2.0",
            "grid_template_areas": null,
            "object_position": null,
            "object_fit": null,
            "grid_auto_columns": null,
            "margin": null,
            "display": null,
            "left": null
          }
        },
        "80a4a13201014adaaf569d95496db40c": {
          "model_module": "@jupyter-widgets/controls",
          "model_name": "DescriptionStyleModel",
          "state": {
            "_view_name": "StyleView",
            "_model_name": "DescriptionStyleModel",
            "description_width": "",
            "_view_module": "@jupyter-widgets/base",
            "_model_module_version": "1.5.0",
            "_view_count": null,
            "_view_module_version": "1.2.0",
            "_model_module": "@jupyter-widgets/controls"
          }
        },
        "788b7bfd7c334a22a3b87f902204e103": {
          "model_module": "@jupyter-widgets/base",
          "model_name": "LayoutModel",
          "state": {
            "_view_name": "LayoutView",
            "grid_template_rows": null,
            "right": null,
            "justify_content": null,
            "_view_module": "@jupyter-widgets/base",
            "overflow": null,
            "_model_module_version": "1.2.0",
            "_view_count": null,
            "flex_flow": null,
            "width": null,
            "min_width": null,
            "border": null,
            "align_items": null,
            "bottom": null,
            "_model_module": "@jupyter-widgets/base",
            "top": null,
            "grid_column": null,
            "overflow_y": null,
            "overflow_x": null,
            "grid_auto_flow": null,
            "grid_area": null,
            "grid_template_columns": null,
            "flex": null,
            "_model_name": "LayoutModel",
            "justify_items": null,
            "grid_row": null,
            "max_height": null,
            "align_content": null,
            "visibility": null,
            "align_self": null,
            "height": null,
            "min_height": null,
            "padding": null,
            "grid_auto_rows": null,
            "grid_gap": null,
            "max_width": null,
            "order": null,
            "_view_module_version": "1.2.0",
            "grid_template_areas": null,
            "object_position": null,
            "object_fit": null,
            "grid_auto_columns": null,
            "margin": null,
            "display": null,
            "left": null
          }
        },
        "cb6469fb18934033ae7c2fa01cc82b54": {
          "model_module": "@jupyter-widgets/controls",
          "model_name": "HBoxModel",
          "state": {
            "_view_name": "HBoxView",
            "_dom_classes": [],
            "_model_name": "HBoxModel",
            "_view_module": "@jupyter-widgets/controls",
            "_model_module_version": "1.5.0",
            "_view_count": null,
            "_view_module_version": "1.5.0",
            "box_style": "",
            "layout": "IPY_MODEL_0dc6ae10e0414ca18e7c8c36f6dbe4b1",
            "_model_module": "@jupyter-widgets/controls",
            "children": [
              "IPY_MODEL_743c7cf7c4d94e0dabe7520be288324c",
              "IPY_MODEL_535dc669b28b4623ac2cc35e90d1a538"
            ]
          }
        },
        "0dc6ae10e0414ca18e7c8c36f6dbe4b1": {
          "model_module": "@jupyter-widgets/base",
          "model_name": "LayoutModel",
          "state": {
            "_view_name": "LayoutView",
            "grid_template_rows": null,
            "right": null,
            "justify_content": null,
            "_view_module": "@jupyter-widgets/base",
            "overflow": null,
            "_model_module_version": "1.2.0",
            "_view_count": null,
            "flex_flow": null,
            "width": null,
            "min_width": null,
            "border": null,
            "align_items": null,
            "bottom": null,
            "_model_module": "@jupyter-widgets/base",
            "top": null,
            "grid_column": null,
            "overflow_y": null,
            "overflow_x": null,
            "grid_auto_flow": null,
            "grid_area": null,
            "grid_template_columns": null,
            "flex": null,
            "_model_name": "LayoutModel",
            "justify_items": null,
            "grid_row": null,
            "max_height": null,
            "align_content": null,
            "visibility": null,
            "align_self": null,
            "height": null,
            "min_height": null,
            "padding": null,
            "grid_auto_rows": null,
            "grid_gap": null,
            "max_width": null,
            "order": null,
            "_view_module_version": "1.2.0",
            "grid_template_areas": null,
            "object_position": null,
            "object_fit": null,
            "grid_auto_columns": null,
            "margin": null,
            "display": null,
            "left": null
          }
        },
        "743c7cf7c4d94e0dabe7520be288324c": {
          "model_module": "@jupyter-widgets/controls",
          "model_name": "IntProgressModel",
          "state": {
            "_view_name": "ProgressView",
            "style": "IPY_MODEL_f4956f1f03be4edf9d87d30829bcbeaa",
            "_dom_classes": [],
            "description": "",
            "_model_name": "IntProgressModel",
            "bar_style": "success",
            "max": 1,
            "_view_module": "@jupyter-widgets/controls",
            "_model_module_version": "1.5.0",
            "value": 1,
            "_view_count": null,
            "_view_module_version": "1.5.0",
            "orientation": "horizontal",
            "min": 0,
            "description_tooltip": null,
            "_model_module": "@jupyter-widgets/controls",
            "layout": "IPY_MODEL_6eed908769324b1496cb536184ac9de5"
          }
        },
        "535dc669b28b4623ac2cc35e90d1a538": {
          "model_module": "@jupyter-widgets/controls",
          "model_name": "HTMLModel",
          "state": {
            "_view_name": "HTMLView",
            "style": "IPY_MODEL_e73a978566f84f338c796d0853e32a23",
            "_dom_classes": [],
            "description": "",
            "_model_name": "HTMLModel",
            "placeholder": "​",
            "_view_module": "@jupyter-widgets/controls",
            "_model_module_version": "1.5.0",
            "value": "32768it [00:00, 115507.54it/s]",
            "_view_count": null,
            "_view_module_version": "1.5.0",
            "description_tooltip": null,
            "_model_module": "@jupyter-widgets/controls",
            "layout": "IPY_MODEL_bb25858bc9bb4a6c9b704b14ef93ca90"
          }
        },
        "f4956f1f03be4edf9d87d30829bcbeaa": {
          "model_module": "@jupyter-widgets/controls",
          "model_name": "ProgressStyleModel",
          "state": {
            "_view_name": "StyleView",
            "_model_name": "ProgressStyleModel",
            "description_width": "",
            "_view_module": "@jupyter-widgets/base",
            "_model_module_version": "1.5.0",
            "_view_count": null,
            "_view_module_version": "1.2.0",
            "bar_color": null,
            "_model_module": "@jupyter-widgets/controls"
          }
        },
        "6eed908769324b1496cb536184ac9de5": {
          "model_module": "@jupyter-widgets/base",
          "model_name": "LayoutModel",
          "state": {
            "_view_name": "LayoutView",
            "grid_template_rows": null,
            "right": null,
            "justify_content": null,
            "_view_module": "@jupyter-widgets/base",
            "overflow": null,
            "_model_module_version": "1.2.0",
            "_view_count": null,
            "flex_flow": null,
            "width": null,
            "min_width": null,
            "border": null,
            "align_items": null,
            "bottom": null,
            "_model_module": "@jupyter-widgets/base",
            "top": null,
            "grid_column": null,
            "overflow_y": null,
            "overflow_x": null,
            "grid_auto_flow": null,
            "grid_area": null,
            "grid_template_columns": null,
            "flex": null,
            "_model_name": "LayoutModel",
            "justify_items": null,
            "grid_row": null,
            "max_height": null,
            "align_content": null,
            "visibility": null,
            "align_self": null,
            "height": null,
            "min_height": null,
            "padding": null,
            "grid_auto_rows": null,
            "grid_gap": null,
            "max_width": null,
            "order": null,
            "_view_module_version": "1.2.0",
            "grid_template_areas": null,
            "object_position": null,
            "object_fit": null,
            "grid_auto_columns": null,
            "margin": null,
            "display": null,
            "left": null
          }
        },
        "e73a978566f84f338c796d0853e32a23": {
          "model_module": "@jupyter-widgets/controls",
          "model_name": "DescriptionStyleModel",
          "state": {
            "_view_name": "StyleView",
            "_model_name": "DescriptionStyleModel",
            "description_width": "",
            "_view_module": "@jupyter-widgets/base",
            "_model_module_version": "1.5.0",
            "_view_count": null,
            "_view_module_version": "1.2.0",
            "_model_module": "@jupyter-widgets/controls"
          }
        },
        "bb25858bc9bb4a6c9b704b14ef93ca90": {
          "model_module": "@jupyter-widgets/base",
          "model_name": "LayoutModel",
          "state": {
            "_view_name": "LayoutView",
            "grid_template_rows": null,
            "right": null,
            "justify_content": null,
            "_view_module": "@jupyter-widgets/base",
            "overflow": null,
            "_model_module_version": "1.2.0",
            "_view_count": null,
            "flex_flow": null,
            "width": null,
            "min_width": null,
            "border": null,
            "align_items": null,
            "bottom": null,
            "_model_module": "@jupyter-widgets/base",
            "top": null,
            "grid_column": null,
            "overflow_y": null,
            "overflow_x": null,
            "grid_auto_flow": null,
            "grid_area": null,
            "grid_template_columns": null,
            "flex": null,
            "_model_name": "LayoutModel",
            "justify_items": null,
            "grid_row": null,
            "max_height": null,
            "align_content": null,
            "visibility": null,
            "align_self": null,
            "height": null,
            "min_height": null,
            "padding": null,
            "grid_auto_rows": null,
            "grid_gap": null,
            "max_width": null,
            "order": null,
            "_view_module_version": "1.2.0",
            "grid_template_areas": null,
            "object_position": null,
            "object_fit": null,
            "grid_auto_columns": null,
            "margin": null,
            "display": null,
            "left": null
          }
        },
        "9d300686958c43f2afded6f07a9e896a": {
          "model_module": "@jupyter-widgets/controls",
          "model_name": "HBoxModel",
          "state": {
            "_view_name": "HBoxView",
            "_dom_classes": [],
            "_model_name": "HBoxModel",
            "_view_module": "@jupyter-widgets/controls",
            "_model_module_version": "1.5.0",
            "_view_count": null,
            "_view_module_version": "1.5.0",
            "box_style": "",
            "layout": "IPY_MODEL_9bd391c03b33489fb8498bdfa87f8473",
            "_model_module": "@jupyter-widgets/controls",
            "children": [
              "IPY_MODEL_e74e1a8652084268b065c1b5f9c3865e",
              "IPY_MODEL_753f5dbffd0d4b63ab072eeb16cd73a1"
            ]
          }
        },
        "9bd391c03b33489fb8498bdfa87f8473": {
          "model_module": "@jupyter-widgets/base",
          "model_name": "LayoutModel",
          "state": {
            "_view_name": "LayoutView",
            "grid_template_rows": null,
            "right": null,
            "justify_content": null,
            "_view_module": "@jupyter-widgets/base",
            "overflow": null,
            "_model_module_version": "1.2.0",
            "_view_count": null,
            "flex_flow": null,
            "width": null,
            "min_width": null,
            "border": null,
            "align_items": null,
            "bottom": null,
            "_model_module": "@jupyter-widgets/base",
            "top": null,
            "grid_column": null,
            "overflow_y": null,
            "overflow_x": null,
            "grid_auto_flow": null,
            "grid_area": null,
            "grid_template_columns": null,
            "flex": null,
            "_model_name": "LayoutModel",
            "justify_items": null,
            "grid_row": null,
            "max_height": null,
            "align_content": null,
            "visibility": null,
            "align_self": null,
            "height": null,
            "min_height": null,
            "padding": null,
            "grid_auto_rows": null,
            "grid_gap": null,
            "max_width": null,
            "order": null,
            "_view_module_version": "1.2.0",
            "grid_template_areas": null,
            "object_position": null,
            "object_fit": null,
            "grid_auto_columns": null,
            "margin": null,
            "display": null,
            "left": null
          }
        },
        "e74e1a8652084268b065c1b5f9c3865e": {
          "model_module": "@jupyter-widgets/controls",
          "model_name": "IntProgressModel",
          "state": {
            "_view_name": "ProgressView",
            "style": "IPY_MODEL_c61b811385f24a4f83be86c42ed5fba9",
            "_dom_classes": [],
            "description": "",
            "_model_name": "IntProgressModel",
            "bar_style": "success",
            "max": 1,
            "_view_module": "@jupyter-widgets/controls",
            "_model_module_version": "1.5.0",
            "value": 1,
            "_view_count": null,
            "_view_module_version": "1.5.0",
            "orientation": "horizontal",
            "min": 0,
            "description_tooltip": null,
            "_model_module": "@jupyter-widgets/controls",
            "layout": "IPY_MODEL_ec3a40fccd6142ca96e8387fea78008e"
          }
        },
        "753f5dbffd0d4b63ab072eeb16cd73a1": {
          "model_module": "@jupyter-widgets/controls",
          "model_name": "HTMLModel",
          "state": {
            "_view_name": "HTMLView",
            "style": "IPY_MODEL_c60371296dfc473aa4cf93d839017c23",
            "_dom_classes": [],
            "description": "",
            "_model_name": "HTMLModel",
            "placeholder": "​",
            "_view_module": "@jupyter-widgets/controls",
            "_model_module_version": "1.5.0",
            "value": "1654784it [00:01, 1328088.68it/s]",
            "_view_count": null,
            "_view_module_version": "1.5.0",
            "description_tooltip": null,
            "_model_module": "@jupyter-widgets/controls",
            "layout": "IPY_MODEL_e8e84f36a6f14855a249dece1f67f23b"
          }
        },
        "c61b811385f24a4f83be86c42ed5fba9": {
          "model_module": "@jupyter-widgets/controls",
          "model_name": "ProgressStyleModel",
          "state": {
            "_view_name": "StyleView",
            "_model_name": "ProgressStyleModel",
            "description_width": "",
            "_view_module": "@jupyter-widgets/base",
            "_model_module_version": "1.5.0",
            "_view_count": null,
            "_view_module_version": "1.2.0",
            "bar_color": null,
            "_model_module": "@jupyter-widgets/controls"
          }
        },
        "ec3a40fccd6142ca96e8387fea78008e": {
          "model_module": "@jupyter-widgets/base",
          "model_name": "LayoutModel",
          "state": {
            "_view_name": "LayoutView",
            "grid_template_rows": null,
            "right": null,
            "justify_content": null,
            "_view_module": "@jupyter-widgets/base",
            "overflow": null,
            "_model_module_version": "1.2.0",
            "_view_count": null,
            "flex_flow": null,
            "width": null,
            "min_width": null,
            "border": null,
            "align_items": null,
            "bottom": null,
            "_model_module": "@jupyter-widgets/base",
            "top": null,
            "grid_column": null,
            "overflow_y": null,
            "overflow_x": null,
            "grid_auto_flow": null,
            "grid_area": null,
            "grid_template_columns": null,
            "flex": null,
            "_model_name": "LayoutModel",
            "justify_items": null,
            "grid_row": null,
            "max_height": null,
            "align_content": null,
            "visibility": null,
            "align_self": null,
            "height": null,
            "min_height": null,
            "padding": null,
            "grid_auto_rows": null,
            "grid_gap": null,
            "max_width": null,
            "order": null,
            "_view_module_version": "1.2.0",
            "grid_template_areas": null,
            "object_position": null,
            "object_fit": null,
            "grid_auto_columns": null,
            "margin": null,
            "display": null,
            "left": null
          }
        },
        "c60371296dfc473aa4cf93d839017c23": {
          "model_module": "@jupyter-widgets/controls",
          "model_name": "DescriptionStyleModel",
          "state": {
            "_view_name": "StyleView",
            "_model_name": "DescriptionStyleModel",
            "description_width": "",
            "_view_module": "@jupyter-widgets/base",
            "_model_module_version": "1.5.0",
            "_view_count": null,
            "_view_module_version": "1.2.0",
            "_model_module": "@jupyter-widgets/controls"
          }
        },
        "e8e84f36a6f14855a249dece1f67f23b": {
          "model_module": "@jupyter-widgets/base",
          "model_name": "LayoutModel",
          "state": {
            "_view_name": "LayoutView",
            "grid_template_rows": null,
            "right": null,
            "justify_content": null,
            "_view_module": "@jupyter-widgets/base",
            "overflow": null,
            "_model_module_version": "1.2.0",
            "_view_count": null,
            "flex_flow": null,
            "width": null,
            "min_width": null,
            "border": null,
            "align_items": null,
            "bottom": null,
            "_model_module": "@jupyter-widgets/base",
            "top": null,
            "grid_column": null,
            "overflow_y": null,
            "overflow_x": null,
            "grid_auto_flow": null,
            "grid_area": null,
            "grid_template_columns": null,
            "flex": null,
            "_model_name": "LayoutModel",
            "justify_items": null,
            "grid_row": null,
            "max_height": null,
            "align_content": null,
            "visibility": null,
            "align_self": null,
            "height": null,
            "min_height": null,
            "padding": null,
            "grid_auto_rows": null,
            "grid_gap": null,
            "max_width": null,
            "order": null,
            "_view_module_version": "1.2.0",
            "grid_template_areas": null,
            "object_position": null,
            "object_fit": null,
            "grid_auto_columns": null,
            "margin": null,
            "display": null,
            "left": null
          }
        },
        "563110c197e1480e94daad3e709e133d": {
          "model_module": "@jupyter-widgets/controls",
          "model_name": "HBoxModel",
          "state": {
            "_view_name": "HBoxView",
            "_dom_classes": [],
            "_model_name": "HBoxModel",
            "_view_module": "@jupyter-widgets/controls",
            "_model_module_version": "1.5.0",
            "_view_count": null,
            "_view_module_version": "1.5.0",
            "box_style": "",
            "layout": "IPY_MODEL_e7f782b391d74f7ca26e727a2f2a41a6",
            "_model_module": "@jupyter-widgets/controls",
            "children": [
              "IPY_MODEL_4aea59ac6c8145f98ce4bb5e0eb92691",
              "IPY_MODEL_4f920706bc3b4ffe8b715a95a2b482a2"
            ]
          }
        },
        "e7f782b391d74f7ca26e727a2f2a41a6": {
          "model_module": "@jupyter-widgets/base",
          "model_name": "LayoutModel",
          "state": {
            "_view_name": "LayoutView",
            "grid_template_rows": null,
            "right": null,
            "justify_content": null,
            "_view_module": "@jupyter-widgets/base",
            "overflow": null,
            "_model_module_version": "1.2.0",
            "_view_count": null,
            "flex_flow": null,
            "width": null,
            "min_width": null,
            "border": null,
            "align_items": null,
            "bottom": null,
            "_model_module": "@jupyter-widgets/base",
            "top": null,
            "grid_column": null,
            "overflow_y": null,
            "overflow_x": null,
            "grid_auto_flow": null,
            "grid_area": null,
            "grid_template_columns": null,
            "flex": null,
            "_model_name": "LayoutModel",
            "justify_items": null,
            "grid_row": null,
            "max_height": null,
            "align_content": null,
            "visibility": null,
            "align_self": null,
            "height": null,
            "min_height": null,
            "padding": null,
            "grid_auto_rows": null,
            "grid_gap": null,
            "max_width": null,
            "order": null,
            "_view_module_version": "1.2.0",
            "grid_template_areas": null,
            "object_position": null,
            "object_fit": null,
            "grid_auto_columns": null,
            "margin": null,
            "display": null,
            "left": null
          }
        },
        "4aea59ac6c8145f98ce4bb5e0eb92691": {
          "model_module": "@jupyter-widgets/controls",
          "model_name": "IntProgressModel",
          "state": {
            "_view_name": "ProgressView",
            "style": "IPY_MODEL_dc15003f844d41f4883a10edee41407d",
            "_dom_classes": [],
            "description": "",
            "_model_name": "IntProgressModel",
            "bar_style": "success",
            "max": 1,
            "_view_module": "@jupyter-widgets/controls",
            "_model_module_version": "1.5.0",
            "value": 1,
            "_view_count": null,
            "_view_module_version": "1.5.0",
            "orientation": "horizontal",
            "min": 0,
            "description_tooltip": null,
            "_model_module": "@jupyter-widgets/controls",
            "layout": "IPY_MODEL_42bb0971a3cd4a64a73d8e431d6b2b5f"
          }
        },
        "4f920706bc3b4ffe8b715a95a2b482a2": {
          "model_module": "@jupyter-widgets/controls",
          "model_name": "HTMLModel",
          "state": {
            "_view_name": "HTMLView",
            "style": "IPY_MODEL_b140d529a3a14f83abda9472a331c429",
            "_dom_classes": [],
            "description": "",
            "_model_name": "HTMLModel",
            "placeholder": "​",
            "_view_module": "@jupyter-widgets/controls",
            "_model_module_version": "1.5.0",
            "value": "8192it [00:00, 40625.39it/s]",
            "_view_count": null,
            "_view_module_version": "1.5.0",
            "description_tooltip": null,
            "_model_module": "@jupyter-widgets/controls",
            "layout": "IPY_MODEL_d7500078d6e842dbb1c828680a93ff7c"
          }
        },
        "dc15003f844d41f4883a10edee41407d": {
          "model_module": "@jupyter-widgets/controls",
          "model_name": "ProgressStyleModel",
          "state": {
            "_view_name": "StyleView",
            "_model_name": "ProgressStyleModel",
            "description_width": "",
            "_view_module": "@jupyter-widgets/base",
            "_model_module_version": "1.5.0",
            "_view_count": null,
            "_view_module_version": "1.2.0",
            "bar_color": null,
            "_model_module": "@jupyter-widgets/controls"
          }
        },
        "42bb0971a3cd4a64a73d8e431d6b2b5f": {
          "model_module": "@jupyter-widgets/base",
          "model_name": "LayoutModel",
          "state": {
            "_view_name": "LayoutView",
            "grid_template_rows": null,
            "right": null,
            "justify_content": null,
            "_view_module": "@jupyter-widgets/base",
            "overflow": null,
            "_model_module_version": "1.2.0",
            "_view_count": null,
            "flex_flow": null,
            "width": null,
            "min_width": null,
            "border": null,
            "align_items": null,
            "bottom": null,
            "_model_module": "@jupyter-widgets/base",
            "top": null,
            "grid_column": null,
            "overflow_y": null,
            "overflow_x": null,
            "grid_auto_flow": null,
            "grid_area": null,
            "grid_template_columns": null,
            "flex": null,
            "_model_name": "LayoutModel",
            "justify_items": null,
            "grid_row": null,
            "max_height": null,
            "align_content": null,
            "visibility": null,
            "align_self": null,
            "height": null,
            "min_height": null,
            "padding": null,
            "grid_auto_rows": null,
            "grid_gap": null,
            "max_width": null,
            "order": null,
            "_view_module_version": "1.2.0",
            "grid_template_areas": null,
            "object_position": null,
            "object_fit": null,
            "grid_auto_columns": null,
            "margin": null,
            "display": null,
            "left": null
          }
        },
        "b140d529a3a14f83abda9472a331c429": {
          "model_module": "@jupyter-widgets/controls",
          "model_name": "DescriptionStyleModel",
          "state": {
            "_view_name": "StyleView",
            "_model_name": "DescriptionStyleModel",
            "description_width": "",
            "_view_module": "@jupyter-widgets/base",
            "_model_module_version": "1.5.0",
            "_view_count": null,
            "_view_module_version": "1.2.0",
            "_model_module": "@jupyter-widgets/controls"
          }
        },
        "d7500078d6e842dbb1c828680a93ff7c": {
          "model_module": "@jupyter-widgets/base",
          "model_name": "LayoutModel",
          "state": {
            "_view_name": "LayoutView",
            "grid_template_rows": null,
            "right": null,
            "justify_content": null,
            "_view_module": "@jupyter-widgets/base",
            "overflow": null,
            "_model_module_version": "1.2.0",
            "_view_count": null,
            "flex_flow": null,
            "width": null,
            "min_width": null,
            "border": null,
            "align_items": null,
            "bottom": null,
            "_model_module": "@jupyter-widgets/base",
            "top": null,
            "grid_column": null,
            "overflow_y": null,
            "overflow_x": null,
            "grid_auto_flow": null,
            "grid_area": null,
            "grid_template_columns": null,
            "flex": null,
            "_model_name": "LayoutModel",
            "justify_items": null,
            "grid_row": null,
            "max_height": null,
            "align_content": null,
            "visibility": null,
            "align_self": null,
            "height": null,
            "min_height": null,
            "padding": null,
            "grid_auto_rows": null,
            "grid_gap": null,
            "max_width": null,
            "order": null,
            "_view_module_version": "1.2.0",
            "grid_template_areas": null,
            "object_position": null,
            "object_fit": null,
            "grid_auto_columns": null,
            "margin": null,
            "display": null,
            "left": null
          }
        }
      }
    }
  },
  "cells": [
    {
      "cell_type": "markdown",
      "metadata": {
        "id": "view-in-github",
        "colab_type": "text"
      },
      "source": [
        "<a href=\"https://colab.research.google.com/github/palashbaranwal/MNIST_BatchNorm_Regularization/blob/master/EVA4_S6.ipynb\" target=\"_parent\"><img src=\"https://colab.research.google.com/assets/colab-badge.svg\" alt=\"Open In Colab\"/></a>"
      ]
    },
    {
      "cell_type": "markdown",
      "metadata": {
        "id": "aO-7t1Y7-hV4",
        "colab_type": "text"
      },
      "source": [
        "# Import Libraries"
      ]
    },
    {
      "cell_type": "code",
      "metadata": {
        "id": "8kH16rnZ7wt_",
        "colab_type": "code",
        "colab": {}
      },
      "source": [
        "from __future__ import print_function\n",
        "import torch\n",
        "import torch.nn as nn\n",
        "import torch.nn.functional as F\n",
        "import torch.optim as optim\n",
        "from torchvision import datasets, transforms\n",
        "from torch.optim.lr_scheduler import StepLR\n",
        "import datetime"
      ],
      "execution_count": 0,
      "outputs": []
    },
    {
      "cell_type": "markdown",
      "metadata": {
        "id": "ky3f_Odl-7um",
        "colab_type": "text"
      },
      "source": [
        "## Data Transformations\n",
        "\n",
        "We first start with defining our data transformations. We need to think what our data is and how can we augment it to correct represent images which it might not see otherwise. \n"
      ]
    },
    {
      "cell_type": "code",
      "metadata": {
        "id": "YtssFUKb-jqx",
        "colab_type": "code",
        "outputId": "73062bf4-fbc6-49c5-f8d6-444969c0b484",
        "colab": {
          "base_uri": "https://localhost:8080/",
          "height": 33
        }
      },
      "source": [
        "# Train Phase transformations\n",
        "train_transforms = transforms.Compose([\n",
        "                                      #  transforms.Resize((28, 28)),\n",
        "                                      #  transforms.ColorJitter(brightness=0.10, contrast=0.1, saturation=0.10, hue=0.1),\n",
        "                                       transforms.ToTensor(),\n",
        "                                       transforms.Normalize((0.1307,), (0.3081,)) # The mean and std have to be sequences (e.g., tuples), therefore you should add a comma after the values. \n",
        "                                       # Note the difference between (0.1307) and (0.1307,)\n",
        "                                       ])\n",
        "\n",
        "# Test Phase transformations\n",
        "test_transforms = transforms.Compose([\n",
        "                                      #  transforms.Resize((28, 28)),\n",
        "                                      #  transforms.ColorJitter(brightness=0.10, contrast=0.1, saturation=0.10, hue=0.1),\n",
        "                                       transforms.ToTensor(),\n",
        "                                       transforms.Normalize((0.1307,), (0.3081,))\n",
        "                                       ])\n",
        "\n",
        "print(1+10)\n"
      ],
      "execution_count": 2,
      "outputs": [
        {
          "output_type": "stream",
          "text": [
            "11\n"
          ],
          "name": "stdout"
        }
      ]
    },
    {
      "cell_type": "markdown",
      "metadata": {
        "id": "oQciFYo2B1mO",
        "colab_type": "text"
      },
      "source": [
        "# Dataset and Creating Train/Test Split"
      ]
    },
    {
      "cell_type": "code",
      "metadata": {
        "id": "_4A84rlfDA23",
        "colab_type": "code",
        "outputId": "14d92a70-7bf8-42fc-ab37-808c6ab5a11c",
        "colab": {
          "base_uri": "https://localhost:8080/",
          "height": 396,
          "referenced_widgets": [
            "0775ca96e4d84328bc7e61426c86255c",
            "803c793405964789a681bd9a7715d510",
            "ae3b571926434ce0b394a8080e44dd53",
            "9dab4f395d134e759eeae8b844016e51",
            "8426f8449cd44608a83e4d4c5955625e",
            "0dccfccd7730490eb1f5ff1fe48827af",
            "80a4a13201014adaaf569d95496db40c",
            "788b7bfd7c334a22a3b87f902204e103",
            "cb6469fb18934033ae7c2fa01cc82b54",
            "0dc6ae10e0414ca18e7c8c36f6dbe4b1",
            "743c7cf7c4d94e0dabe7520be288324c",
            "535dc669b28b4623ac2cc35e90d1a538",
            "f4956f1f03be4edf9d87d30829bcbeaa",
            "6eed908769324b1496cb536184ac9de5",
            "e73a978566f84f338c796d0853e32a23",
            "bb25858bc9bb4a6c9b704b14ef93ca90",
            "9d300686958c43f2afded6f07a9e896a",
            "9bd391c03b33489fb8498bdfa87f8473",
            "e74e1a8652084268b065c1b5f9c3865e",
            "753f5dbffd0d4b63ab072eeb16cd73a1",
            "c61b811385f24a4f83be86c42ed5fba9",
            "ec3a40fccd6142ca96e8387fea78008e",
            "c60371296dfc473aa4cf93d839017c23",
            "e8e84f36a6f14855a249dece1f67f23b",
            "563110c197e1480e94daad3e709e133d",
            "e7f782b391d74f7ca26e727a2f2a41a6",
            "4aea59ac6c8145f98ce4bb5e0eb92691",
            "4f920706bc3b4ffe8b715a95a2b482a2",
            "dc15003f844d41f4883a10edee41407d",
            "42bb0971a3cd4a64a73d8e431d6b2b5f",
            "b140d529a3a14f83abda9472a331c429",
            "d7500078d6e842dbb1c828680a93ff7c"
          ]
        }
      },
      "source": [
        "train = datasets.MNIST('./data', train=True, download=True, transform=train_transforms)\n",
        "test = datasets.MNIST('./data', train=False, download=True, transform=test_transforms)\n",
        "print(9+46)"
      ],
      "execution_count": 3,
      "outputs": [
        {
          "output_type": "stream",
          "text": [
            "Downloading http://yann.lecun.com/exdb/mnist/train-images-idx3-ubyte.gz to ./data/MNIST/raw/train-images-idx3-ubyte.gz\n"
          ],
          "name": "stdout"
        },
        {
          "output_type": "display_data",
          "data": {
            "application/vnd.jupyter.widget-view+json": {
              "model_id": "0775ca96e4d84328bc7e61426c86255c",
              "version_minor": 0,
              "version_major": 2
            },
            "text/plain": [
              "HBox(children=(IntProgress(value=1, bar_style='info', max=1), HTML(value='')))"
            ]
          },
          "metadata": {
            "tags": []
          }
        },
        {
          "output_type": "stream",
          "text": [
            "\n",
            "Extracting ./data/MNIST/raw/train-images-idx3-ubyte.gz to ./data/MNIST/raw\n",
            "Downloading http://yann.lecun.com/exdb/mnist/train-labels-idx1-ubyte.gz to ./data/MNIST/raw/train-labels-idx1-ubyte.gz\n"
          ],
          "name": "stdout"
        },
        {
          "output_type": "display_data",
          "data": {
            "application/vnd.jupyter.widget-view+json": {
              "model_id": "cb6469fb18934033ae7c2fa01cc82b54",
              "version_minor": 0,
              "version_major": 2
            },
            "text/plain": [
              "HBox(children=(IntProgress(value=1, bar_style='info', max=1), HTML(value='')))"
            ]
          },
          "metadata": {
            "tags": []
          }
        },
        {
          "output_type": "stream",
          "text": [
            "\n",
            "Extracting ./data/MNIST/raw/train-labels-idx1-ubyte.gz to ./data/MNIST/raw\n",
            "Downloading http://yann.lecun.com/exdb/mnist/t10k-images-idx3-ubyte.gz to ./data/MNIST/raw/t10k-images-idx3-ubyte.gz\n"
          ],
          "name": "stdout"
        },
        {
          "output_type": "display_data",
          "data": {
            "application/vnd.jupyter.widget-view+json": {
              "model_id": "9d300686958c43f2afded6f07a9e896a",
              "version_minor": 0,
              "version_major": 2
            },
            "text/plain": [
              "HBox(children=(IntProgress(value=1, bar_style='info', max=1), HTML(value='')))"
            ]
          },
          "metadata": {
            "tags": []
          }
        },
        {
          "output_type": "stream",
          "text": [
            "\n",
            "Extracting ./data/MNIST/raw/t10k-images-idx3-ubyte.gz to ./data/MNIST/raw\n",
            "Downloading http://yann.lecun.com/exdb/mnist/t10k-labels-idx1-ubyte.gz to ./data/MNIST/raw/t10k-labels-idx1-ubyte.gz\n"
          ],
          "name": "stdout"
        },
        {
          "output_type": "display_data",
          "data": {
            "application/vnd.jupyter.widget-view+json": {
              "model_id": "563110c197e1480e94daad3e709e133d",
              "version_minor": 0,
              "version_major": 2
            },
            "text/plain": [
              "HBox(children=(IntProgress(value=1, bar_style='info', max=1), HTML(value='')))"
            ]
          },
          "metadata": {
            "tags": []
          }
        },
        {
          "output_type": "stream",
          "text": [
            "\n",
            "Extracting ./data/MNIST/raw/t10k-labels-idx1-ubyte.gz to ./data/MNIST/raw\n",
            "Processing...\n",
            "Done!\n",
            "55\n"
          ],
          "name": "stdout"
        }
      ]
    },
    {
      "cell_type": "markdown",
      "metadata": {
        "id": "qgldp_3-Dn0c",
        "colab_type": "text"
      },
      "source": [
        "# Dataloader Arguments & Test/Train Dataloaders\n"
      ]
    },
    {
      "cell_type": "code",
      "metadata": {
        "id": "C8OLDR79DrHG",
        "colab_type": "code",
        "outputId": "eba1f25a-ab4f-47e4-ba3c-35ee87b41a62",
        "colab": {
          "base_uri": "https://localhost:8080/",
          "height": 33
        }
      },
      "source": [
        "SEED = 1\n",
        "\n",
        "# CUDA?\n",
        "cuda = torch.cuda.is_available()\n",
        "print(\"CUDA Available?\", cuda)\n",
        "\n",
        "# For reproducibility\n",
        "torch.manual_seed(SEED)\n",
        "\n",
        "if cuda:\n",
        "    torch.cuda.manual_seed(SEED)\n",
        "\n",
        "# dataloader arguments - something you'll fetch these from cmdprmt\n",
        "dataloader_args = dict(shuffle=True, batch_size=128, num_workers=4, pin_memory=True) if cuda else dict(shuffle=True, batch_size=64)\n",
        "\n",
        "# train dataloader\n",
        "train_loader = torch.utils.data.DataLoader(train, **dataloader_args)\n",
        "\n",
        "# test dataloader\n",
        "test_loader = torch.utils.data.DataLoader(test, **dataloader_args)"
      ],
      "execution_count": 4,
      "outputs": [
        {
          "output_type": "stream",
          "text": [
            "CUDA Available? True\n"
          ],
          "name": "stdout"
        }
      ]
    },
    {
      "cell_type": "markdown",
      "metadata": {
        "id": "-TFjoFekE_va",
        "colab_type": "text"
      },
      "source": [
        "# Data Statistics\n",
        "\n",
        "It is important to know your data very well. Let's check some of the statistics around our data and how it actually looks like"
      ]
    },
    {
      "cell_type": "code",
      "metadata": {
        "id": "hWZPPo3yEHDW",
        "colab_type": "code",
        "outputId": "19bfc08f-364c-485a-a5c6-bc2bb7df7d24",
        "colab": {
          "base_uri": "https://localhost:8080/",
          "height": 482
        }
      },
      "source": [
        "# We'd need to convert it into Numpy! Remember above we have converted it into tensors already\n",
        "train_data = train.train_data\n",
        "train_data = train.transform(train_data.numpy())\n",
        "\n",
        "print('[Train]')\n",
        "print(' - Numpy Shape:', train.train_data.cpu().numpy().shape)\n",
        "print(' - Tensor Shape:', train.train_data.size())\n",
        "print(' - min:', torch.min(train_data))\n",
        "print(' - max:', torch.max(train_data))\n",
        "print(' - mean:', torch.mean(train_data))\n",
        "print(' - std:', torch.std(train_data))\n",
        "print(' - var:', torch.var(train_data))\n",
        "\n",
        "dataiter = iter(train_loader)\n",
        "images, labels = dataiter.next()\n",
        "\n",
        "print(images.shape)\n",
        "print(labels.shape)\n",
        "\n",
        "# Let's visualize some of the images\n",
        "%matplotlib inline\n",
        "import matplotlib.pyplot as plt\n",
        "\n",
        "plt.imshow(images[0].numpy().squeeze(), cmap='gray_r')\n"
      ],
      "execution_count": 5,
      "outputs": [
        {
          "output_type": "stream",
          "text": [
            "/usr/local/lib/python3.6/dist-packages/torchvision/datasets/mnist.py:55: UserWarning: train_data has been renamed data\n",
            "  warnings.warn(\"train_data has been renamed data\")\n"
          ],
          "name": "stderr"
        },
        {
          "output_type": "stream",
          "text": [
            "[Train]\n",
            " - Numpy Shape: (60000, 28, 28)\n",
            " - Tensor Shape: torch.Size([60000, 28, 28])\n",
            " - min: tensor(-0.4242)\n",
            " - max: tensor(2.8215)\n",
            " - mean: tensor(0.0009)\n",
            " - std: tensor(1.0000)\n",
            " - var: tensor(1.0001)\n",
            "torch.Size([128, 1, 28, 28])\n",
            "torch.Size([128])\n"
          ],
          "name": "stdout"
        },
        {
          "output_type": "execute_result",
          "data": {
            "text/plain": [
              "<matplotlib.image.AxesImage at 0x7f5af5cc4fd0>"
            ]
          },
          "metadata": {
            "tags": []
          },
          "execution_count": 5
        },
        {
          "output_type": "display_data",
          "data": {
            "image/png": "[encoded data removed]",
            "text/plain": [
              "<Figure size 432x288 with 1 Axes>"
            ]
          },
          "metadata": {
            "tags": []
          }
        }
      ]
    },
    {
      "cell_type": "markdown",
      "metadata": {
        "id": "7l9lNaWYKuik",
        "colab_type": "text"
      },
      "source": [
        "## MORE\n",
        "\n",
        "It is important that we view as many images as possible. This is required to get some idea on image augmentation later on"
      ]
    },
    {
      "cell_type": "code",
      "metadata": {
        "id": "hXXAg8hbK16u",
        "colab_type": "code",
        "outputId": "9cf641c1-5757-46af-fef1-66938efa2ed3",
        "colab": {
          "base_uri": "https://localhost:8080/",
          "height": 246
        }
      },
      "source": [
        "figure = plt.figure()\n",
        "num_of_images = 60\n",
        "for index in range(1, num_of_images + 1):\n",
        "    plt.subplot(6, 10, index)\n",
        "    plt.axis('off')\n",
        "    plt.imshow(images[index].numpy().squeeze(), cmap='gray_r')"
      ],
      "execution_count": 6,
      "outputs": [
        {
          "output_type": "display_data",
          "data": {
            "image/png": "[encoded data removed]",
            "text/plain": [
              "<Figure size 432x288 with 60 Axes>"
            ]
          },
          "metadata": {
            "tags": []
          }
        }
      ]
    },
    {
      "cell_type": "markdown",
      "metadata": {
        "id": "ubQL3H6RJL3h",
        "colab_type": "text"
      },
      "source": [
        "# The model\n",
        "Let's start with the model we first saw"
      ]
    },
    {
      "cell_type": "code",
      "metadata": {
        "id": "7FXQlB9kH1ov",
        "colab_type": "code",
        "colab": {}
      },
      "source": [
        "class Net(nn.Module):\n",
        "    def __init__(self):\n",
        "        super(Net, self).__init__()\n",
        "        # Input Block\n",
        "        self.convblock1 = nn.Sequential(\n",
        "            nn.Conv2d(in_channels=1, out_channels=10, kernel_size=(3, 3), padding=0, bias=False),\n",
        "            nn.BatchNorm2d(10),\n",
        "            nn.ReLU()\n",
        "        ) # output_size = 26\n",
        "\n",
        "        # CONVOLUTION BLOCK 1\n",
        "        self.convblock2 = nn.Sequential(\n",
        "            nn.Conv2d(in_channels=10, out_channels=10, kernel_size=(3, 3), padding=0, bias=False),\n",
        "            nn.BatchNorm2d(10),\n",
        "            nn.ReLU()\n",
        "        ) # output_size = 24\n",
        "        self.convblock3 = nn.Sequential(\n",
        "            nn.Conv2d(in_channels=10, out_channels=10, kernel_size=(3, 3), padding=0, bias=False),\n",
        "            nn.BatchNorm2d(10),\n",
        "            \n",
        "            nn.ReLU()\n",
        "        ) # output_size = 22\n",
        "\n",
        "        # TRANSITION BLOCK 1\n",
        "        self.pool1 = nn.MaxPool2d(2, 2) # output_size = 11\n",
        "        # self.convblock4 = nn.Sequential(\n",
        "        #     nn.Conv2d(in_channels=20, out_channels=10, kernel_size=(1, 1), padding=0, bias=False),\n",
        "            \n",
        "            \n",
        "        #     nn.ReLU()\n",
        "        # ) # output_size = 11\n",
        "\n",
        "        # CONVOLUTION BLOCK 2\n",
        "        self.convblock5 = nn.Sequential(\n",
        "            nn.Conv2d(in_channels=10, out_channels=10, kernel_size=(3, 3), padding=0, bias=False),\n",
        "            nn.BatchNorm2d(10),\n",
        "            \n",
        "            nn.ReLU()\n",
        "        ) # output_size = 9\n",
        "        self.convblock6 = nn.Sequential(\n",
        "            nn.Conv2d(in_channels=10, out_channels=32, kernel_size=(3, 3), padding=0, bias=False),\n",
        "            nn.BatchNorm2d(32),\n",
        "            nn.ReLU()\n",
        "        ) # output_size = 7\n",
        "\n",
        "        # OUTPUT BLOCK\n",
        "        # self.convblock7 = nn.Sequential(\n",
        "        #     nn.Conv2d(in_channels=32, out_channels=10, kernel_size=(1, 1), padding=0, bias=False),\n",
        "        #     nn.BatchNorm2d(10),\n",
        "        #     nn.ReLU()\n",
        "        # ) # output_size = 7\n",
        "         \n",
        "        self.convblock8 = nn.Sequential(\n",
        "            nn.Conv2d(in_channels=32, out_channels=10, kernel_size=(3, 3), padding=0, bias=False),\n",
        "            nn.BatchNorm2d(10),\n",
        "            nn.ReLU()\n",
        "        ) # output_size = 5\n",
        "\n",
        "        self.convblock9 = nn.Sequential(\n",
        "            nn.Conv2d(in_channels=10, out_channels=10, kernel_size=(3, 3), padding=0, bias=False),\n",
        "            nn.BatchNorm2d(10),\n",
        "            nn.ReLU()\n",
        "        ) # output_size = 3\n",
        "\n",
        "        # self.convblock9 = nn.Sequential(\n",
        "        #     nn.Conv2d(in_channels=10, out_channels=10, kernel_size=(1, 1), padding=0, bias=False),\n",
        "        # ) # output_size = 5\n",
        "\n",
        "        self.gap = nn.Sequential(\n",
        "            nn.AvgPool2d(kernel_size=3)\n",
        "        ) # output_size = 1\n",
        "\n",
        "\n",
        "\n",
        "        # self.convblock8 = nn.Sequential(\n",
        "        #     nn.Conv2d(in_channels=10, out_channels=10, kernel_size=(7, 7), padding=0, bias=False),\n",
        "        #     # nn.BatchNorm2d(10), NEVER\n",
        "        #     # nn.ReLU() NEVER!\n",
        "        # ) # output_size = 1\n",
        "\n",
        "        self.dropout = nn.Dropout(0.25)\n",
        "\n",
        "    def forward(self, x):\n",
        "        x = self.convblock1(x)\n",
        "        x = self.convblock2(x)\n",
        "        x = self.convblock3(x)\n",
        "        x = self.pool1(x)\n",
        "        #x = self.convblock4(x)\n",
        "        x = self.convblock5(x)\n",
        "        x = self.convblock6(x)\n",
        "        x = self.dropout(x)\n",
        "        #x = self.convblock7(x)\n",
        "        x = self.convblock8(x)\n",
        "        x = self.convblock9(x)\n",
        "        x = self.gap(x)\n",
        "        #x = self.convblock8(x)\n",
        "        x = x.view(-1, 10)\n",
        "        return F.log_softmax(x, dim=-1)"
      ],
      "execution_count": 0,
      "outputs": []
    },
    {
      "cell_type": "markdown",
      "metadata": {
        "id": "M3-vp8X9LCWo",
        "colab_type": "text"
      },
      "source": [
        "# Model Params\n",
        "Can't emphasize on how important viewing Model Summary is. \n",
        "Unfortunately, there is no in-built model visualizer, so we have to take external help"
      ]
    },
    {
      "cell_type": "code",
      "metadata": {
        "id": "5skB97zIJQQe",
        "colab_type": "code",
        "outputId": "25fd1d7c-57d9-4915-946e-d6afb6dd5cd9",
        "colab": {
          "base_uri": "https://localhost:8080/",
          "height": 686
        }
      },
      "source": [
        "!pip install torchsummary\n",
        "from torchsummary import summary\n",
        "use_cuda = torch.cuda.is_available()\n",
        "device = torch.device(\"cuda\" if use_cuda else \"cpu\")\n",
        "print(device)\n",
        "model = Net().to(device)\n",
        "summary(model, input_size=(1, 28, 28))\n",
        "print(\"Check {0}\",str(\"1+2\"))"
      ],
      "execution_count": 8,
      "outputs": [
        {
          "output_type": "stream",
          "text": [
            "Requirement already satisfied: torchsummary in /usr/local/lib/python3.6/dist-packages (1.5.1)\n",
            "cuda\n",
            "----------------------------------------------------------------\n",
            "        Layer (type)               Output Shape         Param #\n",
            "================================================================\n",
            "            Conv2d-1           [-1, 10, 26, 26]              90\n",
            "       BatchNorm2d-2           [-1, 10, 26, 26]              20\n",
            "              ReLU-3           [-1, 10, 26, 26]               0\n",
            "            Conv2d-4           [-1, 10, 24, 24]             900\n",
            "       BatchNorm2d-5           [-1, 10, 24, 24]              20\n",
            "              ReLU-6           [-1, 10, 24, 24]               0\n",
            "            Conv2d-7           [-1, 10, 22, 22]             900\n",
            "       BatchNorm2d-8           [-1, 10, 22, 22]              20\n",
            "              ReLU-9           [-1, 10, 22, 22]               0\n",
            "        MaxPool2d-10           [-1, 10, 11, 11]               0\n",
            "           Conv2d-11             [-1, 10, 9, 9]             900\n",
            "      BatchNorm2d-12             [-1, 10, 9, 9]              20\n",
            "             ReLU-13             [-1, 10, 9, 9]               0\n",
            "           Conv2d-14             [-1, 32, 7, 7]           2,880\n",
            "      BatchNorm2d-15             [-1, 32, 7, 7]              64\n",
            "             ReLU-16             [-1, 32, 7, 7]               0\n",
            "          Dropout-17             [-1, 32, 7, 7]               0\n",
            "           Conv2d-18             [-1, 10, 5, 5]           2,880\n",
            "      BatchNorm2d-19             [-1, 10, 5, 5]              20\n",
            "             ReLU-20             [-1, 10, 5, 5]               0\n",
            "           Conv2d-21             [-1, 10, 3, 3]             900\n",
            "      BatchNorm2d-22             [-1, 10, 3, 3]              20\n",
            "             ReLU-23             [-1, 10, 3, 3]               0\n",
            "        AvgPool2d-24             [-1, 10, 1, 1]               0\n",
            "================================================================\n",
            "Total params: 9,634\n",
            "Trainable params: 9,634\n",
            "Non-trainable params: 0\n",
            "----------------------------------------------------------------\n",
            "Input size (MB): 0.00\n",
            "Forward/backward pass size (MB): 0.48\n",
            "Params size (MB): 0.04\n",
            "Estimated Total Size (MB): 0.52\n",
            "----------------------------------------------------------------\n",
            "Check {0} 1+2\n"
          ],
          "name": "stdout"
        }
      ]
    },
    {
      "cell_type": "markdown",
      "metadata": {
        "id": "1__x_SbrL7z3",
        "colab_type": "text"
      },
      "source": [
        "# Training and Testing\n",
        "\n",
        "Looking at logs can be boring, so we'll introduce **tqdm** progressbar to get cooler logs. \n",
        "\n",
        "Let's write train and test functions"
      ]
    },
    {
      "cell_type": "code",
      "metadata": {
        "id": "fbkF2nN_LYIb",
        "colab_type": "code",
        "colab": {}
      },
      "source": [
        "from tqdm import tqdm\n",
        "\n",
        "train_losses = []\n",
        "test_losses = []\n",
        "train_acc = []\n",
        "test_acc = []\n",
        "\n",
        "def train(model, device, train_loader, optimizer, epoch,l1):\n",
        "  model.train()\n",
        "  pbar = tqdm(train_loader)\n",
        "  correct = 0\n",
        "  processed = 0\n",
        "\n",
        "  # https://discuss.pytorch.org/t/l1-regularization-for-a-single-matrix/28088/2\n",
        "  criterion = nn.CrossEntropyLoss().to(device)\n",
        "  for batch_idx, (data, target) in enumerate(pbar):\n",
        "    # get samples\n",
        "    data, target = data.to(device), target.to(device)\n",
        "\n",
        "    # Init\n",
        "    optimizer.zero_grad()\n",
        "    # In PyTorch, we need to set the gradients to zero before starting to do backpropragation because PyTorch accumulates the gradients on subsequent backward passes. \n",
        "    # Because of this, when you start your training loop, ideally you should zero out the gradients so that you do the parameter update correctly.\n",
        "\n",
        "    # Predict\n",
        "    y_pred = model(data)\n",
        "\n",
        "    # Calculate loss\n",
        "    loss = F.nll_loss(y_pred, target)\n",
        "\n",
        "    if l1>0:\n",
        "      reg_loss = 0 \n",
        "      #l1_crit = nn.L1Loss(size_average=False)\n",
        "      for param in model.parameters():\n",
        "        #if param.dim()>1:\n",
        "        reg_loss +=  torch.sum(abs(param))\n",
        "        #reg_loss +=  param.norm(1)\n",
        "        #reg_loss+=l1_crit(param)\n",
        "      classify_loss = criterion(y_pred,target)\n",
        "      #factor = 0.0005\n",
        "      factor = l1\n",
        "      loss = classify_loss + factor * reg_loss\n",
        "      #loss += factor * reg_loss\n",
        "    \n",
        "    #train_losses.append(loss)\n",
        "\n",
        "    # Backpropagation\n",
        "    loss.backward()\n",
        "    optimizer.step()\n",
        "\n",
        "    # Update pbar-tqdm\n",
        "    \n",
        "    pred = y_pred.argmax(dim=1, keepdim=True)  # get the index of the max log-probability\n",
        "    correct += pred.eq(target.view_as(pred)).sum().item()\n",
        "    processed += len(data)\n",
        "\n",
        "    pbar.set_description(desc= f'Loss={loss.item()} Batch_id={batch_idx} Accuracy={100*correct/processed:0.2f}')\n",
        "    accuracy=100*correct/processed\n",
        "    #train_acc.append(100*correct/processed)\n",
        "    #return train_acc,train_losses\n",
        "    return accuracy,loss\n",
        "\n",
        "\n",
        "def test(model, device, test_loader):\n",
        "    model.eval()\n",
        "    test_loss = 0\n",
        "    correct = 0\n",
        "    with torch.no_grad():\n",
        "        for data, target in test_loader:\n",
        "            data, target = data.to(device), target.to(device)\n",
        "            output = model(data)\n",
        "            test_loss += F.nll_loss(output, target, reduction='sum').item()  # sum up batch loss\n",
        "            pred = output.argmax(dim=1, keepdim=True)  # get the index of the max log-probability\n",
        "            correct += pred.eq(target.view_as(pred)).sum().item()\n",
        "\n",
        "    test_loss /= len(test_loader.dataset)\n",
        "    #test_losses.append(test_loss)\n",
        "\n",
        "    print('\\nTest set: Average loss: {:.4f}, Accuracy: {}/{} ({:.2f}%)\\n'.format(\n",
        "        test_loss, correct, len(test_loader.dataset),\n",
        "        100. * correct / len(test_loader.dataset)))\n",
        "    \n",
        "    accuracy = 100. * correct / len(test_loader.dataset)\n",
        "    #test_acc.append(100. * correct / len(test_loader.dataset))\n",
        "    return accuracy,test_loss"
      ],
      "execution_count": 0,
      "outputs": []
    },
    {
      "cell_type": "markdown",
      "metadata": {
        "id": "drokW8wWODKq",
        "colab_type": "text"
      },
      "source": [
        "# Let's Train and test our model`"
      ]
    },
    {
      "cell_type": "code",
      "metadata": {
        "id": "xMCFxeAKOB53",
        "colab_type": "code",
        "colab": {}
      },
      "source": [
        "def run_model(l1=0,l2=0):\n",
        "  model_train_acc=[]\n",
        "  model_train_losses=[]\n",
        "  model_test_acc=[]\n",
        "  model_test_losses=[]\n",
        "  model =  Net().to(device)\n",
        "  optimizer = optim.SGD(model.parameters(), lr=0.01, momentum=0.9,weight_decay=l2)\n",
        "  scheduler = StepLR(optimizer, step_size=6, gamma=0.1)\n",
        "  EPOCHS = 40\n",
        "  for epoch in range(EPOCHS):\n",
        "    print(\"Epoch - \",epoch)\n",
        "    train_acc,train_losses = train(model, device, train_loader, optimizer, epoch,l1)\n",
        "    model_train_acc.append(train_acc)\n",
        "    model_train_losses.append(train_losses)\n",
        "    \n",
        "    test_acc,test_loss = test(model, device, test_loader)\n",
        "    model_test_acc.append(test_acc)\n",
        "    model_test_losses.append(test_loss)\n",
        "  return model_train_acc,model_train_losses,model_test_acc,model_test_losses"
      ],
      "execution_count": 0,
      "outputs": []
    },
    {
      "cell_type": "markdown",
      "metadata": {
        "id": "55MjMHmRcVRv",
        "colab_type": "text"
      },
      "source": [
        "## Without L1 and L2"
      ]
    },
    {
      "cell_type": "code",
      "metadata": {
        "id": "xKpKE7VCTyyc",
        "colab_type": "code",
        "outputId": "db8d1b45-0a1e-429f-b842-5f4608d7f280",
        "colab": {
          "base_uri": "https://localhost:8080/",
          "height": 1000
        }
      },
      "source": [
        "w_train_acc,w_train_loss,w_test_acc,w_test_loss = run_model()"
      ],
      "execution_count": 11,
      "outputs": [
        {
          "output_type": "stream",
          "text": [
            "\r  0%|          | 0/469 [00:00<?, ?it/s]"
          ],
          "name": "stderr"
        },
        {
          "output_type": "stream",
          "text": [
            "Epoch -  0\n"
          ],
          "name": "stdout"
        },
        {
          "output_type": "stream",
          "text": [
            "Loss=2.3667569160461426 Batch_id=0 Accuracy=3.91:   0%|          | 0/469 [00:00<?, ?it/s]\n",
            "  0%|          | 0/469 [00:00<?, ?it/s]"
          ],
          "name": "stderr"
        },
        {
          "output_type": "stream",
          "text": [
            "\n",
            "Test set: Average loss: 2.3028, Accuracy: 1152/10000 (11.52%)\n",
            "\n",
            "Epoch -  1\n"
          ],
          "name": "stdout"
        },
        {
          "output_type": "stream",
          "text": [
            "\rLoss=2.353729248046875 Batch_id=0 Accuracy=8.59:   0%|          | 0/469 [00:00<?, ?it/s]Traceback (most recent call last):\n",
            "  File \"/usr/lib/python3.6/multiprocessing/queues.py\", line 240, in _feed\n",
            "    send_bytes(obj)\n",
            "  File \"/usr/lib/python3.6/multiprocessing/connection.py\", line 200, in send_bytes\n",
            "    self._send_bytes(m[offset:offset + size])\n",
            "  File \"/usr/lib/python3.6/multiprocessing/connection.py\", line 404, in _send_bytes\n",
            "    self._send(header + buf)\n",
            "  File \"/usr/lib/python3.6/multiprocessing/connection.py\", line 368, in _send\n",
            "    n = write(self._handle, buf)\n",
            "BrokenPipeError: [Errno 32] Broken pipe\n",
            "\n",
            "  0%|          | 0/469 [00:00<?, ?it/s]"
          ],
          "name": "stderr"
        },
        {
          "output_type": "stream",
          "text": [
            "\n",
            "Test set: Average loss: 2.3032, Accuracy: 892/10000 (8.92%)\n",
            "\n",
            "Epoch -  2\n"
          ],
          "name": "stdout"
        },
        {
          "output_type": "stream",
          "text": [
            "Loss=2.3171894550323486 Batch_id=0 Accuracy=7.81:   0%|          | 0/469 [00:00<?, ?it/s]\n",
            "  0%|          | 0/469 [00:00<?, ?it/s]"
          ],
          "name": "stderr"
        },
        {
          "output_type": "stream",
          "text": [
            "\n",
            "Test set: Average loss: 2.3035, Accuracy: 892/10000 (8.92%)\n",
            "\n",
            "Epoch -  3\n"
          ],
          "name": "stdout"
        },
        {
          "output_type": "stream",
          "text": [
            "Loss=2.2812697887420654 Batch_id=0 Accuracy=15.62:   0%|          | 0/469 [00:00<?, ?it/s]\n",
            "  0%|          | 0/469 [00:00<?, ?it/s]"
          ],
          "name": "stderr"
        },
        {
          "output_type": "stream",
          "text": [
            "\n",
            "Test set: Average loss: 2.3037, Accuracy: 892/10000 (8.92%)\n",
            "\n",
            "Epoch -  4\n"
          ],
          "name": "stdout"
        },
        {
          "output_type": "stream",
          "text": [
            "Loss=2.260965585708618 Batch_id=0 Accuracy=14.84:   0%|          | 0/469 [00:00<?, ?it/s]\n",
            "  0%|          | 0/469 [00:00<?, ?it/s]"
          ],
          "name": "stderr"
        },
        {
          "output_type": "stream",
          "text": [
            "\n",
            "Test set: Average loss: 2.3037, Accuracy: 892/10000 (8.92%)\n",
            "\n",
            "Epoch -  5\n"
          ],
          "name": "stdout"
        },
        {
          "output_type": "stream",
          "text": [
            "Loss=2.1960692405700684 Batch_id=0 Accuracy=25.00:   0%|          | 0/469 [00:00<?, ?it/s]\n",
            "  0%|          | 0/469 [00:00<?, ?it/s]"
          ],
          "name": "stderr"
        },
        {
          "output_type": "stream",
          "text": [
            "\n",
            "Test set: Average loss: 2.3035, Accuracy: 892/10000 (8.92%)\n",
            "\n",
            "Epoch -  6\n"
          ],
          "name": "stdout"
        },
        {
          "output_type": "stream",
          "text": [
            "Loss=2.0930607318878174 Batch_id=0 Accuracy=33.59:   0%|          | 0/469 [00:00<?, ?it/s]\n",
            "  0%|          | 0/469 [00:00<?, ?it/s]"
          ],
          "name": "stderr"
        },
        {
          "output_type": "stream",
          "text": [
            "\n",
            "Test set: Average loss: 2.3031, Accuracy: 1865/10000 (18.65%)\n",
            "\n",
            "Epoch -  7\n"
          ],
          "name": "stdout"
        },
        {
          "output_type": "stream",
          "text": [
            "Loss=2.0661301612854004 Batch_id=0 Accuracy=37.50:   0%|          | 0/469 [00:00<?, ?it/s]\n",
            "  0%|          | 0/469 [00:00<?, ?it/s]"
          ],
          "name": "stderr"
        },
        {
          "output_type": "stream",
          "text": [
            "\n",
            "Test set: Average loss: 2.3030, Accuracy: 1135/10000 (11.35%)\n",
            "\n",
            "Epoch -  8\n"
          ],
          "name": "stdout"
        },
        {
          "output_type": "stream",
          "text": [
            "Loss=1.9715734720230103 Batch_id=0 Accuracy=46.88:   0%|          | 0/469 [00:00<?, ?it/s]\n",
            "  0%|          | 0/469 [00:00<?, ?it/s]"
          ],
          "name": "stderr"
        },
        {
          "output_type": "stream",
          "text": [
            "\n",
            "Test set: Average loss: 2.3031, Accuracy: 1135/10000 (11.35%)\n",
            "\n",
            "Epoch -  9\n"
          ],
          "name": "stdout"
        },
        {
          "output_type": "stream",
          "text": [
            "Loss=1.9260514974594116 Batch_id=0 Accuracy=51.56:   0%|          | 0/469 [00:00<?, ?it/s]\n",
            "  0%|          | 0/469 [00:00<?, ?it/s]"
          ],
          "name": "stderr"
        },
        {
          "output_type": "stream",
          "text": [
            "\n",
            "Test set: Average loss: 2.3035, Accuracy: 1135/10000 (11.35%)\n",
            "\n",
            "Epoch -  10\n"
          ],
          "name": "stdout"
        },
        {
          "output_type": "stream",
          "text": [
            "Loss=1.8948323726654053 Batch_id=0 Accuracy=48.44:   0%|          | 0/469 [00:00<?, ?it/s]\n",
            "  0%|          | 0/469 [00:00<?, ?it/s]"
          ],
          "name": "stderr"
        },
        {
          "output_type": "stream",
          "text": [
            "\n",
            "Test set: Average loss: 2.3040, Accuracy: 1135/10000 (11.35%)\n",
            "\n",
            "Epoch -  11\n"
          ],
          "name": "stdout"
        },
        {
          "output_type": "stream",
          "text": [
            "Loss=1.8004964590072632 Batch_id=0 Accuracy=58.59:   0%|          | 0/469 [00:00<?, ?it/s]\n",
            "  0%|          | 0/469 [00:00<?, ?it/s]"
          ],
          "name": "stderr"
        },
        {
          "output_type": "stream",
          "text": [
            "\n",
            "Test set: Average loss: 2.3042, Accuracy: 1135/10000 (11.35%)\n",
            "\n",
            "Epoch -  12\n"
          ],
          "name": "stdout"
        },
        {
          "output_type": "stream",
          "text": [
            "Loss=1.7874603271484375 Batch_id=0 Accuracy=61.72:   0%|          | 0/469 [00:00<?, ?it/s]\n",
            "  0%|          | 0/469 [00:00<?, ?it/s]"
          ],
          "name": "stderr"
        },
        {
          "output_type": "stream",
          "text": [
            "\n",
            "Test set: Average loss: 2.3044, Accuracy: 1135/10000 (11.35%)\n",
            "\n",
            "Epoch -  13\n"
          ],
          "name": "stdout"
        },
        {
          "output_type": "stream",
          "text": [
            "Loss=1.670351266860962 Batch_id=0 Accuracy=63.28:   0%|          | 0/469 [00:00<?, ?it/s]\n",
            "  0%|          | 0/469 [00:00<?, ?it/s]"
          ],
          "name": "stderr"
        },
        {
          "output_type": "stream",
          "text": [
            "\n",
            "Test set: Average loss: 2.3039, Accuracy: 1135/10000 (11.35%)\n",
            "\n",
            "Epoch -  14\n"
          ],
          "name": "stdout"
        },
        {
          "output_type": "stream",
          "text": [
            "Loss=1.695333480834961 Batch_id=0 Accuracy=64.06:   0%|          | 0/469 [00:00<?, ?it/s]\n",
            "  0%|          | 0/469 [00:00<?, ?it/s]"
          ],
          "name": "stderr"
        },
        {
          "output_type": "stream",
          "text": [
            "\n",
            "Test set: Average loss: 2.3021, Accuracy: 1135/10000 (11.35%)\n",
            "\n",
            "Epoch -  15\n"
          ],
          "name": "stdout"
        },
        {
          "output_type": "stream",
          "text": [
            "Loss=1.6032958030700684 Batch_id=0 Accuracy=74.22:   0%|          | 0/469 [00:00<?, ?it/s]\n",
            "  0%|          | 0/469 [00:00<?, ?it/s]"
          ],
          "name": "stderr"
        },
        {
          "output_type": "stream",
          "text": [
            "\n",
            "Test set: Average loss: 2.2987, Accuracy: 1135/10000 (11.35%)\n",
            "\n",
            "Epoch -  16\n"
          ],
          "name": "stdout"
        },
        {
          "output_type": "stream",
          "text": [
            "Loss=1.598961591720581 Batch_id=0 Accuracy=67.97:   0%|          | 0/469 [00:00<?, ?it/s]\n",
            "  0%|          | 0/469 [00:00<?, ?it/s]"
          ],
          "name": "stderr"
        },
        {
          "output_type": "stream",
          "text": [
            "\n",
            "Test set: Average loss: 2.2945, Accuracy: 1135/10000 (11.35%)\n",
            "\n",
            "Epoch -  17\n"
          ],
          "name": "stdout"
        },
        {
          "output_type": "stream",
          "text": [
            "Loss=1.532533049583435 Batch_id=0 Accuracy=67.19:   0%|          | 0/469 [00:00<?, ?it/s]\n",
            "  0%|          | 0/469 [00:00<?, ?it/s]"
          ],
          "name": "stderr"
        },
        {
          "output_type": "stream",
          "text": [
            "\n",
            "Test set: Average loss: 2.2877, Accuracy: 1135/10000 (11.35%)\n",
            "\n",
            "Epoch -  18\n"
          ],
          "name": "stdout"
        },
        {
          "output_type": "stream",
          "text": [
            "Loss=1.5109586715698242 Batch_id=0 Accuracy=68.75:   0%|          | 0/469 [00:00<?, ?it/s]\n",
            "  0%|          | 0/469 [00:00<?, ?it/s]"
          ],
          "name": "stderr"
        },
        {
          "output_type": "stream",
          "text": [
            "\n",
            "Test set: Average loss: 2.2843, Accuracy: 1135/10000 (11.35%)\n",
            "\n",
            "Epoch -  19\n"
          ],
          "name": "stdout"
        },
        {
          "output_type": "stream",
          "text": [
            "Loss=1.546929955482483 Batch_id=0 Accuracy=68.75:   0%|          | 0/469 [00:00<?, ?it/s]\n",
            "  0%|          | 0/469 [00:00<?, ?it/s]"
          ],
          "name": "stderr"
        },
        {
          "output_type": "stream",
          "text": [
            "\n",
            "Test set: Average loss: 2.2683, Accuracy: 1145/10000 (11.45%)\n",
            "\n",
            "Epoch -  20\n"
          ],
          "name": "stdout"
        },
        {
          "output_type": "stream",
          "text": [
            "Loss=1.3921362161636353 Batch_id=0 Accuracy=78.91:   0%|          | 0/469 [00:00<?, ?it/s]\n",
            "  0%|          | 0/469 [00:00<?, ?it/s]"
          ],
          "name": "stderr"
        },
        {
          "output_type": "stream",
          "text": [
            "\n",
            "Test set: Average loss: 2.2275, Accuracy: 1223/10000 (12.23%)\n",
            "\n",
            "Epoch -  21\n"
          ],
          "name": "stdout"
        },
        {
          "output_type": "stream",
          "text": [
            "Loss=1.5043150186538696 Batch_id=0 Accuracy=71.88:   0%|          | 0/469 [00:00<?, ?it/s]\n",
            "  0%|          | 0/469 [00:00<?, ?it/s]"
          ],
          "name": "stderr"
        },
        {
          "output_type": "stream",
          "text": [
            "\n",
            "Test set: Average loss: 2.1248, Accuracy: 1643/10000 (16.43%)\n",
            "\n",
            "Epoch -  22\n"
          ],
          "name": "stdout"
        },
        {
          "output_type": "stream",
          "text": [
            "\rLoss=1.3994548320770264 Batch_id=0 Accuracy=75.00:   0%|          | 0/469 [00:00<?, ?it/s]Traceback (most recent call last):\n",
            "  File \"/usr/lib/python3.6/multiprocessing/queues.py\", line 240, in _feed\n",
            "    send_bytes(obj)\n",
            "  File \"/usr/lib/python3.6/multiprocessing/connection.py\", line 200, in send_bytes\n",
            "    self._send_bytes(m[offset:offset + size])\n",
            "  File \"/usr/lib/python3.6/multiprocessing/connection.py\", line 404, in _send_bytes\n",
            "    self._send(header + buf)\n",
            "  File \"/usr/lib/python3.6/multiprocessing/connection.py\", line 368, in _send\n",
            "    n = write(self._handle, buf)\n",
            "BrokenPipeError: [Errno 32] Broken pipe\n",
            "\n",
            "  0%|          | 0/469 [00:00<?, ?it/s]"
          ],
          "name": "stderr"
        },
        {
          "output_type": "stream",
          "text": [
            "\n",
            "Test set: Average loss: 1.9546, Accuracy: 2905/10000 (29.05%)\n",
            "\n",
            "Epoch -  23\n"
          ],
          "name": "stdout"
        },
        {
          "output_type": "stream",
          "text": [
            "Loss=1.3143296241760254 Batch_id=0 Accuracy=89.06:   0%|          | 0/469 [00:00<?, ?it/s]\n",
            "  0%|          | 0/469 [00:00<?, ?it/s]"
          ],
          "name": "stderr"
        },
        {
          "output_type": "stream",
          "text": [
            "\n",
            "Test set: Average loss: 1.7971, Accuracy: 4659/10000 (46.59%)\n",
            "\n",
            "Epoch -  24\n"
          ],
          "name": "stdout"
        },
        {
          "output_type": "stream",
          "text": [
            "Loss=1.36576247215271 Batch_id=0 Accuracy=77.34:   0%|          | 0/469 [00:00<?, ?it/s]\n",
            "  0%|          | 0/469 [00:00<?, ?it/s]"
          ],
          "name": "stderr"
        },
        {
          "output_type": "stream",
          "text": [
            "\n",
            "Test set: Average loss: 1.6334, Accuracy: 6515/10000 (65.15%)\n",
            "\n",
            "Epoch -  25\n"
          ],
          "name": "stdout"
        },
        {
          "output_type": "stream",
          "text": [
            "Loss=1.376771330833435 Batch_id=0 Accuracy=81.25:   0%|          | 0/469 [00:00<?, ?it/s]\n",
            "  0%|          | 0/469 [00:00<?, ?it/s]"
          ],
          "name": "stderr"
        },
        {
          "output_type": "stream",
          "text": [
            "\n",
            "Test set: Average loss: 1.5147, Accuracy: 7409/10000 (74.09%)\n",
            "\n",
            "Epoch -  26\n"
          ],
          "name": "stdout"
        },
        {
          "output_type": "stream",
          "text": [
            "Loss=1.3210171461105347 Batch_id=0 Accuracy=83.59:   0%|          | 0/469 [00:00<?, ?it/s]\n",
            "  0%|          | 0/469 [00:00<?, ?it/s]"
          ],
          "name": "stderr"
        },
        {
          "output_type": "stream",
          "text": [
            "\n",
            "Test set: Average loss: 1.4295, Accuracy: 7818/10000 (78.18%)\n",
            "\n",
            "Epoch -  27\n"
          ],
          "name": "stdout"
        },
        {
          "output_type": "stream",
          "text": [
            "Loss=1.2722296714782715 Batch_id=0 Accuracy=83.59:   0%|          | 0/469 [00:00<?, ?it/s]\n",
            "  0%|          | 0/469 [00:00<?, ?it/s]"
          ],
          "name": "stderr"
        },
        {
          "output_type": "stream",
          "text": [
            "\n",
            "Test set: Average loss: 1.3581, Accuracy: 8131/10000 (81.31%)\n",
            "\n",
            "Epoch -  28\n"
          ],
          "name": "stdout"
        },
        {
          "output_type": "stream",
          "text": [
            "Loss=1.2189124822616577 Batch_id=0 Accuracy=87.50:   0%|          | 0/469 [00:00<?, ?it/s]\n",
            "  0%|          | 0/469 [00:00<?, ?it/s]"
          ],
          "name": "stderr"
        },
        {
          "output_type": "stream",
          "text": [
            "\n",
            "Test set: Average loss: 1.3016, Accuracy: 8303/10000 (83.03%)\n",
            "\n",
            "Epoch -  29\n"
          ],
          "name": "stdout"
        },
        {
          "output_type": "stream",
          "text": [
            "Loss=1.2069189548492432 Batch_id=0 Accuracy=86.72:   0%|          | 0/469 [00:00<?, ?it/s]\n",
            "  0%|          | 0/469 [00:00<?, ?it/s]"
          ],
          "name": "stderr"
        },
        {
          "output_type": "stream",
          "text": [
            "\n",
            "Test set: Average loss: 1.2529, Accuracy: 8456/10000 (84.56%)\n",
            "\n",
            "Epoch -  30\n"
          ],
          "name": "stdout"
        },
        {
          "output_type": "stream",
          "text": [
            "Loss=1.2484524250030518 Batch_id=0 Accuracy=82.03:   0%|          | 0/469 [00:00<?, ?it/s]\n",
            "  0%|          | 0/469 [00:00<?, ?it/s]"
          ],
          "name": "stderr"
        },
        {
          "output_type": "stream",
          "text": [
            "\n",
            "Test set: Average loss: 1.2267, Accuracy: 8492/10000 (84.92%)\n",
            "\n",
            "Epoch -  31\n"
          ],
          "name": "stdout"
        },
        {
          "output_type": "stream",
          "text": [
            "Loss=1.284733772277832 Batch_id=0 Accuracy=81.25:   0%|          | 0/469 [00:00<?, ?it/s]\n",
            "  0%|          | 0/469 [00:00<?, ?it/s]"
          ],
          "name": "stderr"
        },
        {
          "output_type": "stream",
          "text": [
            "\n",
            "Test set: Average loss: 1.2317, Accuracy: 8404/10000 (84.04%)\n",
            "\n",
            "Epoch -  32\n"
          ],
          "name": "stdout"
        },
        {
          "output_type": "stream",
          "text": [
            "Loss=1.2176754474639893 Batch_id=0 Accuracy=86.72:   0%|          | 0/469 [00:00<?, ?it/s]\n",
            "  0%|          | 0/469 [00:00<?, ?it/s]"
          ],
          "name": "stderr"
        },
        {
          "output_type": "stream",
          "text": [
            "\n",
            "Test set: Average loss: 1.2280, Accuracy: 8285/10000 (82.85%)\n",
            "\n",
            "Epoch -  33\n"
          ],
          "name": "stdout"
        },
        {
          "output_type": "stream",
          "text": [
            "Loss=1.119650959968567 Batch_id=0 Accuracy=87.50:   0%|          | 0/469 [00:00<?, ?it/s]\n",
            "  0%|          | 0/469 [00:00<?, ?it/s]"
          ],
          "name": "stderr"
        },
        {
          "output_type": "stream",
          "text": [
            "\n",
            "Test set: Average loss: 1.2414, Accuracy: 8001/10000 (80.01%)\n",
            "\n",
            "Epoch -  34\n"
          ],
          "name": "stdout"
        },
        {
          "output_type": "stream",
          "text": [
            "Loss=1.1268231868743896 Batch_id=0 Accuracy=83.59:   0%|          | 0/469 [00:00<?, ?it/s]\n",
            "  0%|          | 0/469 [00:00<?, ?it/s]"
          ],
          "name": "stderr"
        },
        {
          "output_type": "stream",
          "text": [
            "\n",
            "Test set: Average loss: 1.2193, Accuracy: 7970/10000 (79.70%)\n",
            "\n",
            "Epoch -  35\n"
          ],
          "name": "stdout"
        },
        {
          "output_type": "stream",
          "text": [
            "Loss=1.1225368976593018 Batch_id=0 Accuracy=87.50:   0%|          | 0/469 [00:00<?, ?it/s]\n",
            "  0%|          | 0/469 [00:00<?, ?it/s]"
          ],
          "name": "stderr"
        },
        {
          "output_type": "stream",
          "text": [
            "\n",
            "Test set: Average loss: 1.2146, Accuracy: 7863/10000 (78.63%)\n",
            "\n",
            "Epoch -  36\n"
          ],
          "name": "stdout"
        },
        {
          "output_type": "stream",
          "text": [
            "Loss=1.1479853391647339 Batch_id=0 Accuracy=85.16:   0%|          | 0/469 [00:00<?, ?it/s]\n",
            "  0%|          | 0/469 [00:00<?, ?it/s]"
          ],
          "name": "stderr"
        },
        {
          "output_type": "stream",
          "text": [
            "\n",
            "Test set: Average loss: 1.1484, Accuracy: 8229/10000 (82.29%)\n",
            "\n",
            "Epoch -  37\n"
          ],
          "name": "stdout"
        },
        {
          "output_type": "stream",
          "text": [
            "Loss=1.038003921508789 Batch_id=0 Accuracy=90.62:   0%|          | 0/469 [00:00<?, ?it/s]\n",
            "  0%|          | 0/469 [00:00<?, ?it/s]"
          ],
          "name": "stderr"
        },
        {
          "output_type": "stream",
          "text": [
            "\n",
            "Test set: Average loss: 1.0655, Accuracy: 8550/10000 (85.50%)\n",
            "\n",
            "Epoch -  38\n"
          ],
          "name": "stdout"
        },
        {
          "output_type": "stream",
          "text": [
            "Loss=1.0125943422317505 Batch_id=0 Accuracy=88.28:   0%|          | 0/469 [00:00<?, ?it/s]\n",
            "  0%|          | 0/469 [00:00<?, ?it/s]"
          ],
          "name": "stderr"
        },
        {
          "output_type": "stream",
          "text": [
            "\n",
            "Test set: Average loss: 0.9842, Accuracy: 8800/10000 (88.00%)\n",
            "\n",
            "Epoch -  39\n"
          ],
          "name": "stdout"
        },
        {
          "output_type": "stream",
          "text": [
            "\rLoss=0.9449836015701294 Batch_id=0 Accuracy=90.62:   0%|          | 0/469 [00:00<?, ?it/s]\n"
          ],
          "name": "stderr"
        },
        {
          "output_type": "stream",
          "text": [
            "\n",
            "Test set: Average loss: 0.9099, Accuracy: 8952/10000 (89.52%)\n",
            "\n"
          ],
          "name": "stdout"
        }
      ]
    },
    {
      "cell_type": "code",
      "metadata": {
        "id": "5rgCkY0nfgBK",
        "colab_type": "code",
        "outputId": "4c24e886-1bbb-44df-bd0b-1a58d559b0d0",
        "colab": {
          "base_uri": "https://localhost:8080/",
          "height": 624
        }
      },
      "source": [
        "from matplotlib import pyplot as plt\n",
        "\n",
        "fig, axs = plt.subplots(2,2,figsize=(15,10))\n",
        "axs[0, 0].plot(w_train_loss)\n",
        "axs[0, 0].set_title(\"Training Loss\")\n",
        "axs[1, 0].plot(w_train_acc)\n",
        "axs[1, 0].set_title(\"Training Accuracy\")\n",
        "axs[0, 1].plot(w_test_loss)\n",
        "axs[0, 1].set_title(\"Test Loss\")\n",
        "axs[1, 1].plot(w_test_acc)\n",
        "axs[1, 1].set_title(\"Test Accuracy\")"
      ],
      "execution_count": 12,
      "outputs": [
        {
          "output_type": "execute_result",
          "data": {
            "text/plain": [
              "Text(0.5, 1.0, 'Test Accuracy')"
            ]
          },
          "metadata": {
            "tags": []
          },
          "execution_count": 12
        },
        {
          "output_type": "display_data",
          "data": {
            "image/png": "[encoded data removed]",
            "text/plain": [
              "<Figure size 1080x720 with 4 Axes>"
            ]
          },
          "metadata": {
            "tags": []
          }
        }
      ]
    },
    {
      "cell_type": "code",
      "metadata": {
        "id": "KmtXxZuIfFcb",
        "colab_type": "code",
        "outputId": "efeff95b-d3a8-4396-bae7-08d4796ca063",
        "colab": {
          "base_uri": "https://localhost:8080/",
          "height": 104
        }
      },
      "source": [
        "print(\"Train Loss\",w_train_loss)\n",
        "print(\"Train Accu\",w_train_acc)\n",
        "print(\"Test Loss\",w_test_loss)\n",
        "print(\"Test Accu\",w_test_acc)"
      ],
      "execution_count": 13,
      "outputs": [
        {
          "output_type": "stream",
          "text": [
            "Train Loss [tensor(2.3668, device='cuda:0', grad_fn=<NllLossBackward>), tensor(2.3537, device='cuda:0', grad_fn=<NllLossBackward>), tensor(2.3172, device='cuda:0', grad_fn=<NllLossBackward>), tensor(2.2813, device='cuda:0', grad_fn=<NllLossBackward>), tensor(2.2610, device='cuda:0', grad_fn=<NllLossBackward>), tensor(2.1961, device='cuda:0', grad_fn=<NllLossBackward>), tensor(2.0931, device='cuda:0', grad_fn=<NllLossBackward>), tensor(2.0661, device='cuda:0', grad_fn=<NllLossBackward>), tensor(1.9716, device='cuda:0', grad_fn=<NllLossBackward>), tensor(1.9261, device='cuda:0', grad_fn=<NllLossBackward>), tensor(1.8948, device='cuda:0', grad_fn=<NllLossBackward>), tensor(1.8005, device='cuda:0', grad_fn=<NllLossBackward>), tensor(1.7875, device='cuda:0', grad_fn=<NllLossBackward>), tensor(1.6704, device='cuda:0', grad_fn=<NllLossBackward>), tensor(1.6953, device='cuda:0', grad_fn=<NllLossBackward>), tensor(1.6033, device='cuda:0', grad_fn=<NllLossBackward>), tensor(1.5990, device='cuda:0', grad_fn=<NllLossBackward>), tensor(1.5325, device='cuda:0', grad_fn=<NllLossBackward>), tensor(1.5110, device='cuda:0', grad_fn=<NllLossBackward>), tensor(1.5469, device='cuda:0', grad_fn=<NllLossBackward>), tensor(1.3921, device='cuda:0', grad_fn=<NllLossBackward>), tensor(1.5043, device='cuda:0', grad_fn=<NllLossBackward>), tensor(1.3995, device='cuda:0', grad_fn=<NllLossBackward>), tensor(1.3143, device='cuda:0', grad_fn=<NllLossBackward>), tensor(1.3658, device='cuda:0', grad_fn=<NllLossBackward>), tensor(1.3768, device='cuda:0', grad_fn=<NllLossBackward>), tensor(1.3210, device='cuda:0', grad_fn=<NllLossBackward>), tensor(1.2722, device='cuda:0', grad_fn=<NllLossBackward>), tensor(1.2189, device='cuda:0', grad_fn=<NllLossBackward>), tensor(1.2069, device='cuda:0', grad_fn=<NllLossBackward>), tensor(1.2485, device='cuda:0', grad_fn=<NllLossBackward>), tensor(1.2847, device='cuda:0', grad_fn=<NllLossBackward>), tensor(1.2177, device='cuda:0', grad_fn=<NllLossBackward>), tensor(1.1197, device='cuda:0', grad_fn=<NllLossBackward>), tensor(1.1268, device='cuda:0', grad_fn=<NllLossBackward>), tensor(1.1225, device='cuda:0', grad_fn=<NllLossBackward>), tensor(1.1480, device='cuda:0', grad_fn=<NllLossBackward>), tensor(1.0380, device='cuda:0', grad_fn=<NllLossBackward>), tensor(1.0126, device='cuda:0', grad_fn=<NllLossBackward>), tensor(0.9450, device='cuda:0', grad_fn=<NllLossBackward>)]\n",
            "Train Accu [3.90625, 8.59375, 7.8125, 15.625, 14.84375, 25.0, 33.59375, 37.5, 46.875, 51.5625, 48.4375, 58.59375, 61.71875, 63.28125, 64.0625, 74.21875, 67.96875, 67.1875, 68.75, 68.75, 78.90625, 71.875, 75.0, 89.0625, 77.34375, 81.25, 83.59375, 83.59375, 87.5, 86.71875, 82.03125, 81.25, 86.71875, 87.5, 83.59375, 87.5, 85.15625, 90.625, 88.28125, 90.625]\n",
            "Test Loss [2.30284652633667, 2.3031663623809813, 2.303479091644287, 2.3036816761016845, 2.303707247924805, 2.303491306304932, 2.3031213150024414, 2.3029909801483153, 2.3031212852478027, 2.303478001022339, 2.304041817855835, 2.304187155151367, 2.3044446155548095, 2.30391293258667, 2.3021285778045653, 2.298700800704956, 2.2944731174468993, 2.2877114753723147, 2.2843065715789796, 2.268331004333496, 2.2275276927948, 2.124830681991577, 1.9545993751525879, 1.7971183727264404, 1.633407990837097, 1.5146744997024537, 1.4295173774719239, 1.3581095754623413, 1.3015661712646485, 1.252894470024109, 1.2266951608657837, 1.2317001289367675, 1.228008257484436, 1.2413524662017823, 1.219321333694458, 1.214597862815857, 1.148350945854187, 1.065491381263733, 0.9841978260040283, 0.9099101234436036]\n",
            "Test Accu [11.52, 8.92, 8.92, 8.92, 8.92, 8.92, 18.65, 11.35, 11.35, 11.35, 11.35, 11.35, 11.35, 11.35, 11.35, 11.35, 11.35, 11.35, 11.35, 11.45, 12.23, 16.43, 29.05, 46.59, 65.15, 74.09, 78.18, 81.31, 83.03, 84.56, 84.92, 84.04, 82.85, 80.01, 79.7, 78.63, 82.29, 85.5, 88.0, 89.52]\n"
          ],
          "name": "stdout"
        }
      ]
    },
    {
      "cell_type": "code",
      "metadata": {
        "id": "MHZmRwQiuzk3",
        "colab_type": "code",
        "colab": {}
      },
      "source": [
        "import numpy as np\n",
        "def find_misclassified(model, num_img=25):\n",
        "  images=[]\n",
        "  targ_list=[]\n",
        "  pred_list=[]\n",
        "  count=0\n",
        "  with torch.no_grad():\n",
        "    for data, target in test_loader:\n",
        "      data, target = data.to(device), target.to(device)\n",
        "      output = model(data)\n",
        "      pred = output.argmax(dim=1, keepdim=True).view_as(target)\n",
        "      for d, t, p in zip(data, target, pred):\n",
        "        if t!=p:\n",
        "          d=d.cpu().numpy()\n",
        "          t=t.cpu().numpy()\n",
        "          p=p.cpu().numpy()\n",
        "          d=(d*0.3081)+0.1307 #denormalizing each image before inserting\n",
        "          images.append(d)\n",
        "          targ_list.append(t)\n",
        "          pred_list.append(p)\n",
        "          count+=1\n",
        "        if count==num_img:\n",
        "          return images, targ_list, pred_list\n",
        "\n",
        "def plot_misclassified(images, targ_list, pred_list, num_img=25, save=False):\n",
        "  fig = plt.figure(figsize=(15,((num_img//5)+1)*3))\n",
        "  for i in range(0, num_img):\n",
        "    ax=fig.add_subplot((num_img//5)+1, 5, i+1)\n",
        "    ax.imshow(np.rollaxis(img[i],0,3).squeeze(), cmap='gray')\n",
        "    ax.axis('off')\n",
        "    ax.set_title(\"Actual : \"+str(targ_list[i])+\"  Predicted : \"+str(pred_list[i]))\n",
        "  if save==True:\n",
        "    plt.savefig('fig.png')\n",
        "  plt.show()"
      ],
      "execution_count": 0,
      "outputs": []
    },
    {
      "cell_type": "code",
      "metadata": {
        "id": "bbUWooeeu4bQ",
        "colab_type": "code",
        "colab": {
          "base_uri": "https://localhost:8080/",
          "height": 858
        },
        "outputId": "39709c5e-019f-46da-b04e-42a8acbda054"
      },
      "source": [
        "img, targ, pred = find_misclassified(model)\n",
        "plot_misclassified(img, targ, pred)"
      ],
      "execution_count": 17,
      "outputs": [
        {
          "output_type": "display_data",
          "data": {
            "image/png": "[encoded data removed]",
            "text/plain": [
              "<Figure size 1080x1296 with 25 Axes>"
            ]
          },
          "metadata": {
            "tags": []
          }
        }
      ]
    },
    {
      "cell_type": "markdown",
      "metadata": {
        "id": "XJELMkC5cZFJ",
        "colab_type": "text"
      },
      "source": [
        "## With L1"
      ]
    },
    {
      "cell_type": "code",
      "metadata": {
        "id": "MurCy6XMcZeh",
        "colab_type": "code",
        "outputId": "085bdba1-8739-4060-a150-131110ddf697",
        "colab": {
          "base_uri": "https://localhost:8080/",
          "height": 1000
        }
      },
      "source": [
        "l1_train_acc,l1_train_loss,l1_test_acc,l1_test_loss = run_model(l1=0.000001)"
      ],
      "execution_count": 18,
      "outputs": [
        {
          "output_type": "stream",
          "text": [
            "\r  0%|          | 0/469 [00:00<?, ?it/s]"
          ],
          "name": "stderr"
        },
        {
          "output_type": "stream",
          "text": [
            "Epoch -  0\n"
          ],
          "name": "stdout"
        },
        {
          "output_type": "stream",
          "text": [
            "Loss=2.361530303955078 Batch_id=0 Accuracy=5.47:   0%|          | 0/469 [00:00<?, ?it/s]\n",
            "  0%|          | 0/469 [00:00<?, ?it/s]"
          ],
          "name": "stderr"
        },
        {
          "output_type": "stream",
          "text": [
            "\n",
            "Test set: Average loss: 2.3023, Accuracy: 1031/10000 (10.31%)\n",
            "\n",
            "Epoch -  1\n"
          ],
          "name": "stdout"
        },
        {
          "output_type": "stream",
          "text": [
            "Loss=2.3414578437805176 Batch_id=0 Accuracy=10.16:   0%|          | 0/469 [00:00<?, ?it/s]\n",
            "  0%|          | 0/469 [00:00<?, ?it/s]"
          ],
          "name": "stderr"
        },
        {
          "output_type": "stream",
          "text": [
            "\n",
            "Test set: Average loss: 2.3021, Accuracy: 1028/10000 (10.28%)\n",
            "\n",
            "Epoch -  2\n"
          ],
          "name": "stdout"
        },
        {
          "output_type": "stream",
          "text": [
            "Loss=2.292109966278076 Batch_id=0 Accuracy=9.38:   0%|          | 0/469 [00:00<?, ?it/s]\n",
            "  0%|          | 0/469 [00:00<?, ?it/s]"
          ],
          "name": "stderr"
        },
        {
          "output_type": "stream",
          "text": [
            "\n",
            "Test set: Average loss: 2.3019, Accuracy: 1029/10000 (10.29%)\n",
            "\n",
            "Epoch -  3\n"
          ],
          "name": "stdout"
        },
        {
          "output_type": "stream",
          "text": [
            "Loss=2.2094993591308594 Batch_id=0 Accuracy=13.28:   0%|          | 0/469 [00:00<?, ?it/s]\n",
            "  0%|          | 0/469 [00:00<?, ?it/s]"
          ],
          "name": "stderr"
        },
        {
          "output_type": "stream",
          "text": [
            "\n",
            "Test set: Average loss: 2.3012, Accuracy: 1028/10000 (10.28%)\n",
            "\n",
            "Epoch -  4\n"
          ],
          "name": "stdout"
        },
        {
          "output_type": "stream",
          "text": [
            "Loss=2.144554615020752 Batch_id=0 Accuracy=27.34:   0%|          | 0/469 [00:00<?, ?it/s]\n",
            "  0%|          | 0/469 [00:00<?, ?it/s]"
          ],
          "name": "stderr"
        },
        {
          "output_type": "stream",
          "text": [
            "\n",
            "Test set: Average loss: 2.3000, Accuracy: 1051/10000 (10.51%)\n",
            "\n",
            "Epoch -  5\n"
          ],
          "name": "stdout"
        },
        {
          "output_type": "stream",
          "text": [
            "Loss=2.0630905628204346 Batch_id=0 Accuracy=39.06:   0%|          | 0/469 [00:00<?, ?it/s]\n",
            "  0%|          | 0/469 [00:00<?, ?it/s]"
          ],
          "name": "stderr"
        },
        {
          "output_type": "stream",
          "text": [
            "\n",
            "Test set: Average loss: 2.2977, Accuracy: 1205/10000 (12.05%)\n",
            "\n",
            "Epoch -  6\n"
          ],
          "name": "stdout"
        },
        {
          "output_type": "stream",
          "text": [
            "Loss=1.998010277748108 Batch_id=0 Accuracy=48.44:   0%|          | 0/469 [00:00<?, ?it/s]\n",
            "  0%|          | 0/469 [00:00<?, ?it/s]"
          ],
          "name": "stderr"
        },
        {
          "output_type": "stream",
          "text": [
            "\n",
            "Test set: Average loss: 2.2930, Accuracy: 1504/10000 (15.04%)\n",
            "\n",
            "Epoch -  7\n"
          ],
          "name": "stdout"
        },
        {
          "output_type": "stream",
          "text": [
            "Loss=1.9608876705169678 Batch_id=0 Accuracy=42.97:   0%|          | 0/469 [00:00<?, ?it/s]\n",
            "  0%|          | 0/469 [00:00<?, ?it/s]"
          ],
          "name": "stderr"
        },
        {
          "output_type": "stream",
          "text": [
            "\n",
            "Test set: Average loss: 2.2839, Accuracy: 1775/10000 (17.75%)\n",
            "\n",
            "Epoch -  8\n"
          ],
          "name": "stdout"
        },
        {
          "output_type": "stream",
          "text": [
            "Loss=1.8389393091201782 Batch_id=0 Accuracy=58.59:   0%|          | 0/469 [00:00<?, ?it/s]\n",
            "  0%|          | 0/469 [00:00<?, ?it/s]"
          ],
          "name": "stderr"
        },
        {
          "output_type": "stream",
          "text": [
            "\n",
            "Test set: Average loss: 2.2688, Accuracy: 2456/10000 (24.56%)\n",
            "\n",
            "Epoch -  9\n"
          ],
          "name": "stdout"
        },
        {
          "output_type": "stream",
          "text": [
            "Loss=1.8451753854751587 Batch_id=0 Accuracy=53.12:   0%|          | 0/469 [00:00<?, ?it/s]\n",
            "  0%|          | 0/469 [00:00<?, ?it/s]"
          ],
          "name": "stderr"
        },
        {
          "output_type": "stream",
          "text": [
            "\n",
            "Test set: Average loss: 2.2475, Accuracy: 3119/10000 (31.19%)\n",
            "\n",
            "Epoch -  10\n"
          ],
          "name": "stdout"
        },
        {
          "output_type": "stream",
          "text": [
            "Loss=1.8073519468307495 Batch_id=0 Accuracy=53.12:   0%|          | 0/469 [00:00<?, ?it/s]\n",
            "  0%|          | 0/469 [00:00<?, ?it/s]"
          ],
          "name": "stderr"
        },
        {
          "output_type": "stream",
          "text": [
            "\n",
            "Test set: Average loss: 2.2220, Accuracy: 3371/10000 (33.71%)\n",
            "\n",
            "Epoch -  11\n"
          ],
          "name": "stdout"
        },
        {
          "output_type": "stream",
          "text": [
            "Loss=1.6950750350952148 Batch_id=0 Accuracy=67.97:   0%|          | 0/469 [00:00<?, ?it/s]\n",
            "  0%|          | 0/469 [00:00<?, ?it/s]"
          ],
          "name": "stderr"
        },
        {
          "output_type": "stream",
          "text": [
            "\n",
            "Test set: Average loss: 2.1930, Accuracy: 3621/10000 (36.21%)\n",
            "\n",
            "Epoch -  12\n"
          ],
          "name": "stdout"
        },
        {
          "output_type": "stream",
          "text": [
            "Loss=1.6865595579147339 Batch_id=0 Accuracy=67.19:   0%|          | 0/469 [00:00<?, ?it/s]\n",
            "  0%|          | 0/469 [00:00<?, ?it/s]"
          ],
          "name": "stderr"
        },
        {
          "output_type": "stream",
          "text": [
            "\n",
            "Test set: Average loss: 2.1600, Accuracy: 3820/10000 (38.20%)\n",
            "\n",
            "Epoch -  13\n"
          ],
          "name": "stdout"
        },
        {
          "output_type": "stream",
          "text": [
            "Loss=1.6280323266983032 Batch_id=0 Accuracy=64.06:   0%|          | 0/469 [00:00<?, ?it/s]\n",
            "  0%|          | 0/469 [00:00<?, ?it/s]"
          ],
          "name": "stderr"
        },
        {
          "output_type": "stream",
          "text": [
            "\n",
            "Test set: Average loss: 2.1204, Accuracy: 4105/10000 (41.05%)\n",
            "\n",
            "Epoch -  14\n"
          ],
          "name": "stdout"
        },
        {
          "output_type": "stream",
          "text": [
            "Loss=1.5586684942245483 Batch_id=0 Accuracy=72.66:   0%|          | 0/469 [00:00<?, ?it/s]\n",
            "  0%|          | 0/469 [00:00<?, ?it/s]"
          ],
          "name": "stderr"
        },
        {
          "output_type": "stream",
          "text": [
            "\n",
            "Test set: Average loss: 2.0751, Accuracy: 4328/10000 (43.28%)\n",
            "\n",
            "Epoch -  15\n"
          ],
          "name": "stdout"
        },
        {
          "output_type": "stream",
          "text": [
            "Loss=1.5860404968261719 Batch_id=0 Accuracy=65.62:   0%|          | 0/469 [00:00<?, ?it/s]\n",
            "  0%|          | 0/469 [00:00<?, ?it/s]"
          ],
          "name": "stderr"
        },
        {
          "output_type": "stream",
          "text": [
            "\n",
            "Test set: Average loss: 2.0289, Accuracy: 4494/10000 (44.94%)\n",
            "\n",
            "Epoch -  16\n"
          ],
          "name": "stdout"
        },
        {
          "output_type": "stream",
          "text": [
            "Loss=1.5179706811904907 Batch_id=0 Accuracy=71.88:   0%|          | 0/469 [00:00<?, ?it/s]\n",
            "  0%|          | 0/469 [00:00<?, ?it/s]"
          ],
          "name": "stderr"
        },
        {
          "output_type": "stream",
          "text": [
            "\n",
            "Test set: Average loss: 1.9749, Accuracy: 4737/10000 (47.37%)\n",
            "\n",
            "Epoch -  17\n"
          ],
          "name": "stdout"
        },
        {
          "output_type": "stream",
          "text": [
            "Loss=1.4496285915374756 Batch_id=0 Accuracy=75.00:   0%|          | 0/469 [00:00<?, ?it/s]\n",
            "  0%|          | 0/469 [00:00<?, ?it/s]"
          ],
          "name": "stderr"
        },
        {
          "output_type": "stream",
          "text": [
            "\n",
            "Test set: Average loss: 1.9259, Accuracy: 4890/10000 (48.90%)\n",
            "\n",
            "Epoch -  18\n"
          ],
          "name": "stdout"
        },
        {
          "output_type": "stream",
          "text": [
            "Loss=1.4302119016647339 Batch_id=0 Accuracy=75.00:   0%|          | 0/469 [00:00<?, ?it/s]\n",
            "  0%|          | 0/469 [00:00<?, ?it/s]"
          ],
          "name": "stderr"
        },
        {
          "output_type": "stream",
          "text": [
            "\n",
            "Test set: Average loss: 1.8793, Accuracy: 4971/10000 (49.71%)\n",
            "\n",
            "Epoch -  19\n"
          ],
          "name": "stdout"
        },
        {
          "output_type": "stream",
          "text": [
            "Loss=1.3587180376052856 Batch_id=0 Accuracy=78.12:   0%|          | 0/469 [00:00<?, ?it/s]\n",
            "  0%|          | 0/469 [00:00<?, ?it/s]"
          ],
          "name": "stderr"
        },
        {
          "output_type": "stream",
          "text": [
            "\n",
            "Test set: Average loss: 1.8297, Accuracy: 5154/10000 (51.54%)\n",
            "\n",
            "Epoch -  20\n"
          ],
          "name": "stdout"
        },
        {
          "output_type": "stream",
          "text": [
            "Loss=1.3954907655715942 Batch_id=0 Accuracy=80.47:   0%|          | 0/469 [00:00<?, ?it/s]\n",
            "  0%|          | 0/469 [00:00<?, ?it/s]"
          ],
          "name": "stderr"
        },
        {
          "output_type": "stream",
          "text": [
            "\n",
            "Test set: Average loss: 1.7897, Accuracy: 5237/10000 (52.37%)\n",
            "\n",
            "Epoch -  21\n"
          ],
          "name": "stdout"
        },
        {
          "output_type": "stream",
          "text": [
            "Loss=1.4175516366958618 Batch_id=0 Accuracy=71.88:   0%|          | 0/469 [00:00<?, ?it/s]\n",
            "  0%|          | 0/469 [00:00<?, ?it/s]"
          ],
          "name": "stderr"
        },
        {
          "output_type": "stream",
          "text": [
            "\n",
            "Test set: Average loss: 1.7479, Accuracy: 5339/10000 (53.39%)\n",
            "\n",
            "Epoch -  22\n"
          ],
          "name": "stdout"
        },
        {
          "output_type": "stream",
          "text": [
            "Loss=1.435724139213562 Batch_id=0 Accuracy=72.66:   0%|          | 0/469 [00:00<?, ?it/s]\n",
            "  0%|          | 0/469 [00:00<?, ?it/s]"
          ],
          "name": "stderr"
        },
        {
          "output_type": "stream",
          "text": [
            "\n",
            "Test set: Average loss: 1.7044, Accuracy: 5462/10000 (54.62%)\n",
            "\n",
            "Epoch -  23\n"
          ],
          "name": "stdout"
        },
        {
          "output_type": "stream",
          "text": [
            "Loss=1.3619471788406372 Batch_id=0 Accuracy=80.47:   0%|          | 0/469 [00:00<?, ?it/s]\n",
            "  0%|          | 0/469 [00:00<?, ?it/s]"
          ],
          "name": "stderr"
        },
        {
          "output_type": "stream",
          "text": [
            "\n",
            "Test set: Average loss: 1.6653, Accuracy: 5607/10000 (56.07%)\n",
            "\n",
            "Epoch -  24\n"
          ],
          "name": "stdout"
        },
        {
          "output_type": "stream",
          "text": [
            "Loss=1.3310084342956543 Batch_id=0 Accuracy=75.00:   0%|          | 0/469 [00:00<?, ?it/s]\n",
            "  0%|          | 0/469 [00:00<?, ?it/s]"
          ],
          "name": "stderr"
        },
        {
          "output_type": "stream",
          "text": [
            "\n",
            "Test set: Average loss: 1.6263, Accuracy: 5763/10000 (57.63%)\n",
            "\n",
            "Epoch -  25\n"
          ],
          "name": "stdout"
        },
        {
          "output_type": "stream",
          "text": [
            "Loss=1.2902225255966187 Batch_id=0 Accuracy=83.59:   0%|          | 0/469 [00:00<?, ?it/s]\n",
            "  0%|          | 0/469 [00:00<?, ?it/s]"
          ],
          "name": "stderr"
        },
        {
          "output_type": "stream",
          "text": [
            "\n",
            "Test set: Average loss: 1.5895, Accuracy: 5924/10000 (59.24%)\n",
            "\n",
            "Epoch -  26\n"
          ],
          "name": "stdout"
        },
        {
          "output_type": "stream",
          "text": [
            "Loss=1.276643991470337 Batch_id=0 Accuracy=82.81:   0%|          | 0/469 [00:00<?, ?it/s]\n",
            "  0%|          | 0/469 [00:00<?, ?it/s]"
          ],
          "name": "stderr"
        },
        {
          "output_type": "stream",
          "text": [
            "\n",
            "Test set: Average loss: 1.5526, Accuracy: 6099/10000 (60.99%)\n",
            "\n",
            "Epoch -  27\n"
          ],
          "name": "stdout"
        },
        {
          "output_type": "stream",
          "text": [
            "Loss=1.2355114221572876 Batch_id=0 Accuracy=82.03:   0%|          | 0/469 [00:00<?, ?it/s]\n",
            "  0%|          | 0/469 [00:00<?, ?it/s]"
          ],
          "name": "stderr"
        },
        {
          "output_type": "stream",
          "text": [
            "\n",
            "Test set: Average loss: 1.4985, Accuracy: 6470/10000 (64.70%)\n",
            "\n",
            "Epoch -  28\n"
          ],
          "name": "stdout"
        },
        {
          "output_type": "stream",
          "text": [
            "Loss=1.262647032737732 Batch_id=0 Accuracy=85.16:   0%|          | 0/469 [00:00<?, ?it/s]\n",
            "  0%|          | 0/469 [00:00<?, ?it/s]"
          ],
          "name": "stderr"
        },
        {
          "output_type": "stream",
          "text": [
            "\n",
            "Test set: Average loss: 1.4442, Accuracy: 6784/10000 (67.84%)\n",
            "\n",
            "Epoch -  29\n"
          ],
          "name": "stdout"
        },
        {
          "output_type": "stream",
          "text": [
            "Loss=1.192551851272583 Batch_id=0 Accuracy=82.81:   0%|          | 0/469 [00:00<?, ?it/s]\n",
            "  0%|          | 0/469 [00:00<?, ?it/s]"
          ],
          "name": "stderr"
        },
        {
          "output_type": "stream",
          "text": [
            "\n",
            "Test set: Average loss: 1.3875, Accuracy: 7180/10000 (71.80%)\n",
            "\n",
            "Epoch -  30\n"
          ],
          "name": "stdout"
        },
        {
          "output_type": "stream",
          "text": [
            "Loss=1.1791523694992065 Batch_id=0 Accuracy=80.47:   0%|          | 0/469 [00:00<?, ?it/s]\n",
            "  0%|          | 0/469 [00:00<?, ?it/s]"
          ],
          "name": "stderr"
        },
        {
          "output_type": "stream",
          "text": [
            "\n",
            "Test set: Average loss: 1.3284, Accuracy: 7522/10000 (75.22%)\n",
            "\n",
            "Epoch -  31\n"
          ],
          "name": "stdout"
        },
        {
          "output_type": "stream",
          "text": [
            "Loss=1.132724642753601 Batch_id=0 Accuracy=82.81:   0%|          | 0/469 [00:00<?, ?it/s]\n",
            "  0%|          | 0/469 [00:00<?, ?it/s]"
          ],
          "name": "stderr"
        },
        {
          "output_type": "stream",
          "text": [
            "\n",
            "Test set: Average loss: 1.2780, Accuracy: 7745/10000 (77.45%)\n",
            "\n",
            "Epoch -  32\n"
          ],
          "name": "stdout"
        },
        {
          "output_type": "stream",
          "text": [
            "Loss=1.1617447137832642 Batch_id=0 Accuracy=85.94:   0%|          | 0/469 [00:00<?, ?it/s]\n",
            "  0%|          | 0/469 [00:00<?, ?it/s]"
          ],
          "name": "stderr"
        },
        {
          "output_type": "stream",
          "text": [
            "\n",
            "Test set: Average loss: 1.2393, Accuracy: 7904/10000 (79.04%)\n",
            "\n",
            "Epoch -  33\n"
          ],
          "name": "stdout"
        },
        {
          "output_type": "stream",
          "text": [
            "Loss=1.126274824142456 Batch_id=0 Accuracy=80.47:   0%|          | 0/469 [00:00<?, ?it/s]\n",
            "  0%|          | 0/469 [00:00<?, ?it/s]"
          ],
          "name": "stderr"
        },
        {
          "output_type": "stream",
          "text": [
            "\n",
            "Test set: Average loss: 1.1878, Accuracy: 8141/10000 (81.41%)\n",
            "\n",
            "Epoch -  34\n"
          ],
          "name": "stdout"
        },
        {
          "output_type": "stream",
          "text": [
            "Loss=1.172536015510559 Batch_id=0 Accuracy=83.59:   0%|          | 0/469 [00:00<?, ?it/s]\n",
            "  0%|          | 0/469 [00:00<?, ?it/s]"
          ],
          "name": "stderr"
        },
        {
          "output_type": "stream",
          "text": [
            "\n",
            "Test set: Average loss: 1.1429, Accuracy: 8320/10000 (83.20%)\n",
            "\n",
            "Epoch -  35\n"
          ],
          "name": "stdout"
        },
        {
          "output_type": "stream",
          "text": [
            "Loss=1.0905648469924927 Batch_id=0 Accuracy=85.94:   0%|          | 0/469 [00:00<?, ?it/s]\n",
            "  0%|          | 0/469 [00:00<?, ?it/s]"
          ],
          "name": "stderr"
        },
        {
          "output_type": "stream",
          "text": [
            "\n",
            "Test set: Average loss: 1.1107, Accuracy: 8448/10000 (84.48%)\n",
            "\n",
            "Epoch -  36\n"
          ],
          "name": "stdout"
        },
        {
          "output_type": "stream",
          "text": [
            "Loss=0.9954986572265625 Batch_id=0 Accuracy=89.84:   0%|          | 0/469 [00:00<?, ?it/s]\n",
            "  0%|          | 0/469 [00:00<?, ?it/s]"
          ],
          "name": "stderr"
        },
        {
          "output_type": "stream",
          "text": [
            "\n",
            "Test set: Average loss: 1.0893, Accuracy: 8489/10000 (84.89%)\n",
            "\n",
            "Epoch -  37\n"
          ],
          "name": "stdout"
        },
        {
          "output_type": "stream",
          "text": [
            "Loss=1.0654771327972412 Batch_id=0 Accuracy=89.84:   0%|          | 0/469 [00:00<?, ?it/s]\n",
            "  0%|          | 0/469 [00:00<?, ?it/s]"
          ],
          "name": "stderr"
        },
        {
          "output_type": "stream",
          "text": [
            "\n",
            "Test set: Average loss: 1.0890, Accuracy: 8434/10000 (84.34%)\n",
            "\n",
            "Epoch -  38\n"
          ],
          "name": "stdout"
        },
        {
          "output_type": "stream",
          "text": [
            "Loss=1.0328401327133179 Batch_id=0 Accuracy=91.41:   0%|          | 0/469 [00:00<?, ?it/s]\n",
            "  0%|          | 0/469 [00:00<?, ?it/s]"
          ],
          "name": "stderr"
        },
        {
          "output_type": "stream",
          "text": [
            "\n",
            "Test set: Average loss: 1.0867, Accuracy: 8369/10000 (83.69%)\n",
            "\n",
            "Epoch -  39\n"
          ],
          "name": "stdout"
        },
        {
          "output_type": "stream",
          "text": [
            "\rLoss=1.009238600730896 Batch_id=0 Accuracy=85.16:   0%|          | 0/469 [00:00<?, ?it/s]\n"
          ],
          "name": "stderr"
        },
        {
          "output_type": "stream",
          "text": [
            "\n",
            "Test set: Average loss: 1.0805, Accuracy: 8330/10000 (83.30%)\n",
            "\n"
          ],
          "name": "stdout"
        }
      ]
    },
    {
      "cell_type": "code",
      "metadata": {
        "id": "gI48OBS1hGkl",
        "colab_type": "code",
        "outputId": "6080a350-1027-44b6-d1ef-48bea31f55a5",
        "colab": {
          "base_uri": "https://localhost:8080/",
          "height": 624
        }
      },
      "source": [
        "from matplotlib import pyplot as plt\n",
        "\n",
        "fig, axs = plt.subplots(2,2,figsize=(15,10))\n",
        "axs[0, 0].plot(l1_train_loss)\n",
        "axs[0, 0].set_title(\"Training Loss\")\n",
        "axs[1, 0].plot(l1_train_acc)\n",
        "axs[1, 0].set_title(\"Training Accuracy\")\n",
        "axs[0, 1].plot(l1_test_loss)\n",
        "axs[0, 1].set_title(\"Test Loss\")\n",
        "axs[1, 1].plot(l1_test_acc)\n",
        "axs[1, 1].set_title(\"Test Accuracy\")"
      ],
      "execution_count": 19,
      "outputs": [
        {
          "output_type": "execute_result",
          "data": {
            "text/plain": [
              "Text(0.5, 1.0, 'Test Accuracy')"
            ]
          },
          "metadata": {
            "tags": []
          },
          "execution_count": 19
        },
        {
          "output_type": "display_data",
          "data": {
            "image/png": "[encoded data removed]",
            "text/plain": [
              "<Figure size 1080x720 with 4 Axes>"
            ]
          },
          "metadata": {
            "tags": []
          }
        }
      ]
    },
    {
      "cell_type": "code",
      "metadata": {
        "id": "ISzK_GGifuGp",
        "colab_type": "code",
        "outputId": "b78e0222-5fcc-42d0-8563-925962628258",
        "colab": {
          "base_uri": "https://localhost:8080/",
          "height": 104
        }
      },
      "source": [
        "print(\"Train Loss\",l1_train_loss)\n",
        "print(\"Train Accu\",l1_train_acc)\n",
        "print(\"Test Loss\",l1_test_loss)\n",
        "print(\"Test Accu\",l1_test_acc)"
      ],
      "execution_count": 20,
      "outputs": [
        {
          "output_type": "stream",
          "text": [
            "Train Loss [tensor(2.3615, device='cuda:0', grad_fn=<AddBackward0>), tensor(2.3415, device='cuda:0', grad_fn=<AddBackward0>), tensor(2.2921, device='cuda:0', grad_fn=<AddBackward0>), tensor(2.2095, device='cuda:0', grad_fn=<AddBackward0>), tensor(2.1446, device='cuda:0', grad_fn=<AddBackward0>), tensor(2.0631, device='cuda:0', grad_fn=<AddBackward0>), tensor(1.9980, device='cuda:0', grad_fn=<AddBackward0>), tensor(1.9609, device='cuda:0', grad_fn=<AddBackward0>), tensor(1.8389, device='cuda:0', grad_fn=<AddBackward0>), tensor(1.8452, device='cuda:0', grad_fn=<AddBackward0>), tensor(1.8074, device='cuda:0', grad_fn=<AddBackward0>), tensor(1.6951, device='cuda:0', grad_fn=<AddBackward0>), tensor(1.6866, device='cuda:0', grad_fn=<AddBackward0>), tensor(1.6280, device='cuda:0', grad_fn=<AddBackward0>), tensor(1.5587, device='cuda:0', grad_fn=<AddBackward0>), tensor(1.5860, device='cuda:0', grad_fn=<AddBackward0>), tensor(1.5180, device='cuda:0', grad_fn=<AddBackward0>), tensor(1.4496, device='cuda:0', grad_fn=<AddBackward0>), tensor(1.4302, device='cuda:0', grad_fn=<AddBackward0>), tensor(1.3587, device='cuda:0', grad_fn=<AddBackward0>), tensor(1.3955, device='cuda:0', grad_fn=<AddBackward0>), tensor(1.4176, device='cuda:0', grad_fn=<AddBackward0>), tensor(1.4357, device='cuda:0', grad_fn=<AddBackward0>), tensor(1.3619, device='cuda:0', grad_fn=<AddBackward0>), tensor(1.3310, device='cuda:0', grad_fn=<AddBackward0>), tensor(1.2902, device='cuda:0', grad_fn=<AddBackward0>), tensor(1.2766, device='cuda:0', grad_fn=<AddBackward0>), tensor(1.2355, device='cuda:0', grad_fn=<AddBackward0>), tensor(1.2626, device='cuda:0', grad_fn=<AddBackward0>), tensor(1.1926, device='cuda:0', grad_fn=<AddBackward0>), tensor(1.1792, device='cuda:0', grad_fn=<AddBackward0>), tensor(1.1327, device='cuda:0', grad_fn=<AddBackward0>), tensor(1.1617, device='cuda:0', grad_fn=<AddBackward0>), tensor(1.1263, device='cuda:0', grad_fn=<AddBackward0>), tensor(1.1725, device='cuda:0', grad_fn=<AddBackward0>), tensor(1.0906, device='cuda:0', grad_fn=<AddBackward0>), tensor(0.9955, device='cuda:0', grad_fn=<AddBackward0>), tensor(1.0655, device='cuda:0', grad_fn=<AddBackward0>), tensor(1.0328, device='cuda:0', grad_fn=<AddBackward0>), tensor(1.0092, device='cuda:0', grad_fn=<AddBackward0>)]\n",
            "Train Accu [5.46875, 10.15625, 9.375, 13.28125, 27.34375, 39.0625, 48.4375, 42.96875, 58.59375, 53.125, 53.125, 67.96875, 67.1875, 64.0625, 72.65625, 65.625, 71.875, 75.0, 75.0, 78.125, 80.46875, 71.875, 72.65625, 80.46875, 75.0, 83.59375, 82.8125, 82.03125, 85.15625, 82.8125, 80.46875, 82.8125, 85.9375, 80.46875, 83.59375, 85.9375, 89.84375, 89.84375, 91.40625, 85.15625]\n",
            "Test Loss [2.302287015533447, 2.302118697357178, 2.3018943370819094, 2.301239200592041, 2.2999983417510985, 2.297740539932251, 2.2929606170654298, 2.283858032608032, 2.2687978656768797, 2.2474779838562013, 2.2220012775421143, 2.1930297328948973, 2.1600397891998293, 2.1203570892333983, 2.075140308380127, 2.028906352996826, 1.974914214706421, 1.9258846118927002, 1.8792940998077392, 1.8296975122451782, 1.789696435546875, 1.7479387607574464, 1.7044073257446288, 1.6652600982666015, 1.6262745775222778, 1.589522297668457, 1.5525785287857055, 1.4985333740234374, 1.4441599946975707, 1.387535266494751, 1.3283614765167235, 1.277955076789856, 1.239334732055664, 1.1878345706939697, 1.1429370174407958, 1.1106618014335632, 1.089274397087097, 1.0890224960327148, 1.086726313686371, 1.0804924005508423]\n",
            "Test Accu [10.31, 10.28, 10.29, 10.28, 10.51, 12.05, 15.04, 17.75, 24.56, 31.19, 33.71, 36.21, 38.2, 41.05, 43.28, 44.94, 47.37, 48.9, 49.71, 51.54, 52.37, 53.39, 54.62, 56.07, 57.63, 59.24, 60.99, 64.7, 67.84, 71.8, 75.22, 77.45, 79.04, 81.41, 83.2, 84.48, 84.89, 84.34, 83.69, 83.3]\n"
          ],
          "name": "stdout"
        }
      ]
    },
    {
      "cell_type": "code",
      "metadata": {
        "id": "-Rcq7Vlwvmar",
        "colab_type": "code",
        "colab": {
          "base_uri": "https://localhost:8080/",
          "height": 858
        },
        "outputId": "870f42b7-6b5a-4e5b-b723-c3e1a6cbc91e"
      },
      "source": [
        "img, targ, pred = find_misclassified(model)\n",
        "plot_misclassified(img, targ, pred)"
      ],
      "execution_count": 21,
      "outputs": [
        {
          "output_type": "display_data",
          "data": {
            "image/png": "[encoded data removed]",
            "text/plain": [
              "<Figure size 1080x1296 with 25 Axes>"
            ]
          },
          "metadata": {
            "tags": []
          }
        }
      ]
    },
    {
      "cell_type": "markdown",
      "metadata": {
        "id": "44FKEN2AdJqp",
        "colab_type": "text"
      },
      "source": [
        "## With L2"
      ]
    },
    {
      "cell_type": "code",
      "metadata": {
        "id": "H-3XZ2HxdKCC",
        "colab_type": "code",
        "outputId": "4e467eee-d91a-4202-c399-42f00181c462",
        "colab": {
          "base_uri": "https://localhost:8080/",
          "height": 1000
        }
      },
      "source": [
        "l2_train_acc,l2_train_loss,l2_test_acc,l2_test_loss = run_model(l2=0.000001)"
      ],
      "execution_count": 22,
      "outputs": [
        {
          "output_type": "stream",
          "text": [
            "\r  0%|          | 0/469 [00:00<?, ?it/s]"
          ],
          "name": "stderr"
        },
        {
          "output_type": "stream",
          "text": [
            "Epoch -  0\n"
          ],
          "name": "stdout"
        },
        {
          "output_type": "stream",
          "text": [
            "Loss=2.3334619998931885 Batch_id=0 Accuracy=13.28:   0%|          | 0/469 [00:00<?, ?it/s]\n",
            "  0%|          | 0/469 [00:00<?, ?it/s]"
          ],
          "name": "stderr"
        },
        {
          "output_type": "stream",
          "text": [
            "\n",
            "Test set: Average loss: 2.3026, Accuracy: 1009/10000 (10.09%)\n",
            "\n",
            "Epoch -  1\n"
          ],
          "name": "stdout"
        },
        {
          "output_type": "stream",
          "text": [
            "Loss=2.3055341243743896 Batch_id=0 Accuracy=10.94:   0%|          | 0/469 [00:00<?, ?it/s]\n",
            "  0%|          | 0/469 [00:00<?, ?it/s]"
          ],
          "name": "stderr"
        },
        {
          "output_type": "stream",
          "text": [
            "\n",
            "Test set: Average loss: 2.3025, Accuracy: 1009/10000 (10.09%)\n",
            "\n",
            "Epoch -  2\n"
          ],
          "name": "stdout"
        },
        {
          "output_type": "stream",
          "text": [
            "Loss=2.2465739250183105 Batch_id=0 Accuracy=14.06:   0%|          | 0/469 [00:00<?, ?it/s]\n",
            "  0%|          | 0/469 [00:00<?, ?it/s]"
          ],
          "name": "stderr"
        },
        {
          "output_type": "stream",
          "text": [
            "\n",
            "Test set: Average loss: 2.3025, Accuracy: 1009/10000 (10.09%)\n",
            "\n",
            "Epoch -  3\n"
          ],
          "name": "stdout"
        },
        {
          "output_type": "stream",
          "text": [
            "Loss=2.231548309326172 Batch_id=0 Accuracy=16.41:   0%|          | 0/469 [00:00<?, ?it/s]\n",
            "  0%|          | 0/469 [00:00<?, ?it/s]"
          ],
          "name": "stderr"
        },
        {
          "output_type": "stream",
          "text": [
            "\n",
            "Test set: Average loss: 2.3023, Accuracy: 1009/10000 (10.09%)\n",
            "\n",
            "Epoch -  4\n"
          ],
          "name": "stdout"
        },
        {
          "output_type": "stream",
          "text": [
            "Loss=2.1505274772644043 Batch_id=0 Accuracy=25.00:   0%|          | 0/469 [00:00<?, ?it/s]\n",
            "  0%|          | 0/469 [00:00<?, ?it/s]"
          ],
          "name": "stderr"
        },
        {
          "output_type": "stream",
          "text": [
            "\n",
            "Test set: Average loss: 2.3021, Accuracy: 1011/10000 (10.11%)\n",
            "\n",
            "Epoch -  5\n"
          ],
          "name": "stdout"
        },
        {
          "output_type": "stream",
          "text": [
            "Loss=2.07909893989563 Batch_id=0 Accuracy=31.25:   0%|          | 0/469 [00:00<?, ?it/s]\n",
            "  0%|          | 0/469 [00:00<?, ?it/s]"
          ],
          "name": "stderr"
        },
        {
          "output_type": "stream",
          "text": [
            "\n",
            "Test set: Average loss: 2.3023, Accuracy: 1028/10000 (10.28%)\n",
            "\n",
            "Epoch -  6\n"
          ],
          "name": "stdout"
        },
        {
          "output_type": "stream",
          "text": [
            "Loss=2.056285858154297 Batch_id=0 Accuracy=35.16:   0%|          | 0/469 [00:00<?, ?it/s]\n",
            "  0%|          | 0/469 [00:00<?, ?it/s]"
          ],
          "name": "stderr"
        },
        {
          "output_type": "stream",
          "text": [
            "\n",
            "Test set: Average loss: 2.3018, Accuracy: 1028/10000 (10.28%)\n",
            "\n",
            "Epoch -  7\n"
          ],
          "name": "stdout"
        },
        {
          "output_type": "stream",
          "text": [
            "Loss=1.963043451309204 Batch_id=0 Accuracy=40.62:   0%|          | 0/469 [00:00<?, ?it/s]\n",
            "  0%|          | 0/469 [00:00<?, ?it/s]"
          ],
          "name": "stderr"
        },
        {
          "output_type": "stream",
          "text": [
            "\n",
            "Test set: Average loss: 2.3015, Accuracy: 1028/10000 (10.28%)\n",
            "\n",
            "Epoch -  8\n"
          ],
          "name": "stdout"
        },
        {
          "output_type": "stream",
          "text": [
            "Loss=1.921907663345337 Batch_id=0 Accuracy=37.50:   0%|          | 0/469 [00:00<?, ?it/s]\n",
            "  0%|          | 0/469 [00:00<?, ?it/s]"
          ],
          "name": "stderr"
        },
        {
          "output_type": "stream",
          "text": [
            "\n",
            "Test set: Average loss: 2.3016, Accuracy: 1028/10000 (10.28%)\n",
            "\n",
            "Epoch -  9\n"
          ],
          "name": "stdout"
        },
        {
          "output_type": "stream",
          "text": [
            "Loss=1.8732739686965942 Batch_id=0 Accuracy=50.00:   0%|          | 0/469 [00:00<?, ?it/s]\n",
            "  0%|          | 0/469 [00:00<?, ?it/s]"
          ],
          "name": "stderr"
        },
        {
          "output_type": "stream",
          "text": [
            "\n",
            "Test set: Average loss: 2.3025, Accuracy: 1028/10000 (10.28%)\n",
            "\n",
            "Epoch -  10\n"
          ],
          "name": "stdout"
        },
        {
          "output_type": "stream",
          "text": [
            "Loss=1.8948798179626465 Batch_id=0 Accuracy=48.44:   0%|          | 0/469 [00:00<?, ?it/s]\n",
            "  0%|          | 0/469 [00:00<?, ?it/s]"
          ],
          "name": "stderr"
        },
        {
          "output_type": "stream",
          "text": [
            "\n",
            "Test set: Average loss: 2.3045, Accuracy: 1028/10000 (10.28%)\n",
            "\n",
            "Epoch -  11\n"
          ],
          "name": "stdout"
        },
        {
          "output_type": "stream",
          "text": [
            "Loss=1.7979249954223633 Batch_id=0 Accuracy=54.69:   0%|          | 0/469 [00:00<?, ?it/s]\n",
            "  0%|          | 0/469 [00:00<?, ?it/s]"
          ],
          "name": "stderr"
        },
        {
          "output_type": "stream",
          "text": [
            "\n",
            "Test set: Average loss: 2.3078, Accuracy: 1028/10000 (10.28%)\n",
            "\n",
            "Epoch -  12\n"
          ],
          "name": "stdout"
        },
        {
          "output_type": "stream",
          "text": [
            "\rLoss=1.77870512008667 Batch_id=0 Accuracy=54.69:   0%|          | 0/469 [00:00<?, ?it/s]Traceback (most recent call last):\n",
            "  File \"/usr/lib/python3.6/multiprocessing/queues.py\", line 240, in _feed\n",
            "    send_bytes(obj)\n",
            "  File \"/usr/lib/python3.6/multiprocessing/connection.py\", line 200, in send_bytes\n",
            "    self._send_bytes(m[offset:offset + size])\n",
            "  File \"/usr/lib/python3.6/multiprocessing/connection.py\", line 404, in _send_bytes\n",
            "    self._send(header + buf)\n",
            "  File \"/usr/lib/python3.6/multiprocessing/connection.py\", line 368, in _send\n",
            "    n = write(self._handle, buf)\n",
            "BrokenPipeError: [Errno 32] Broken pipe\n",
            "\n",
            "  0%|          | 0/469 [00:00<?, ?it/s]"
          ],
          "name": "stderr"
        },
        {
          "output_type": "stream",
          "text": [
            "\n",
            "Test set: Average loss: 2.3111, Accuracy: 1133/10000 (11.33%)\n",
            "\n",
            "Epoch -  13\n"
          ],
          "name": "stdout"
        },
        {
          "output_type": "stream",
          "text": [
            "Loss=1.783555269241333 Batch_id=0 Accuracy=51.56:   0%|          | 0/469 [00:00<?, ?it/s]\n",
            "  0%|          | 0/469 [00:00<?, ?it/s]"
          ],
          "name": "stderr"
        },
        {
          "output_type": "stream",
          "text": [
            "\n",
            "Test set: Average loss: 2.3133, Accuracy: 2008/10000 (20.08%)\n",
            "\n",
            "Epoch -  14\n"
          ],
          "name": "stdout"
        },
        {
          "output_type": "stream",
          "text": [
            "Loss=1.7739028930664062 Batch_id=0 Accuracy=50.78:   0%|          | 0/469 [00:00<?, ?it/s]\n",
            "  0%|          | 0/469 [00:00<?, ?it/s]"
          ],
          "name": "stderr"
        },
        {
          "output_type": "stream",
          "text": [
            "\n",
            "Test set: Average loss: 2.3126, Accuracy: 2066/10000 (20.66%)\n",
            "\n",
            "Epoch -  15\n"
          ],
          "name": "stdout"
        },
        {
          "output_type": "stream",
          "text": [
            "Loss=1.6633491516113281 Batch_id=0 Accuracy=61.72:   0%|          | 0/469 [00:00<?, ?it/s]\n",
            "  0%|          | 0/469 [00:00<?, ?it/s]"
          ],
          "name": "stderr"
        },
        {
          "output_type": "stream",
          "text": [
            "\n",
            "Test set: Average loss: 2.3015, Accuracy: 2037/10000 (20.37%)\n",
            "\n",
            "Epoch -  16\n"
          ],
          "name": "stdout"
        },
        {
          "output_type": "stream",
          "text": [
            "Loss=1.685545563697815 Batch_id=0 Accuracy=57.81:   0%|          | 0/469 [00:00<?, ?it/s]\n",
            "  0%|          | 0/469 [00:00<?, ?it/s]"
          ],
          "name": "stderr"
        },
        {
          "output_type": "stream",
          "text": [
            "\n",
            "Test set: Average loss: 2.2840, Accuracy: 2019/10000 (20.19%)\n",
            "\n",
            "Epoch -  17\n"
          ],
          "name": "stdout"
        },
        {
          "output_type": "stream",
          "text": [
            "Loss=1.5958943367004395 Batch_id=0 Accuracy=72.66:   0%|          | 0/469 [00:00<?, ?it/s]\n",
            "  0%|          | 0/469 [00:00<?, ?it/s]"
          ],
          "name": "stderr"
        },
        {
          "output_type": "stream",
          "text": [
            "\n",
            "Test set: Average loss: 2.2545, Accuracy: 2183/10000 (21.83%)\n",
            "\n",
            "Epoch -  18\n"
          ],
          "name": "stdout"
        },
        {
          "output_type": "stream",
          "text": [
            "Loss=1.6668767929077148 Batch_id=0 Accuracy=65.62:   0%|          | 0/469 [00:00<?, ?it/s]\n",
            "  0%|          | 0/469 [00:00<?, ?it/s]"
          ],
          "name": "stderr"
        },
        {
          "output_type": "stream",
          "text": [
            "\n",
            "Test set: Average loss: 2.2174, Accuracy: 2398/10000 (23.98%)\n",
            "\n",
            "Epoch -  19\n"
          ],
          "name": "stdout"
        },
        {
          "output_type": "stream",
          "text": [
            "Loss=1.5629451274871826 Batch_id=0 Accuracy=70.31:   0%|          | 0/469 [00:00<?, ?it/s]\n",
            "  0%|          | 0/469 [00:00<?, ?it/s]"
          ],
          "name": "stderr"
        },
        {
          "output_type": "stream",
          "text": [
            "\n",
            "Test set: Average loss: 2.1665, Accuracy: 2549/10000 (25.49%)\n",
            "\n",
            "Epoch -  20\n"
          ],
          "name": "stdout"
        },
        {
          "output_type": "stream",
          "text": [
            "Loss=1.5633457899093628 Batch_id=0 Accuracy=66.41:   0%|          | 0/469 [00:00<?, ?it/s]\n",
            "  0%|          | 0/469 [00:00<?, ?it/s]"
          ],
          "name": "stderr"
        },
        {
          "output_type": "stream",
          "text": [
            "\n",
            "Test set: Average loss: 2.1016, Accuracy: 2726/10000 (27.26%)\n",
            "\n",
            "Epoch -  21\n"
          ],
          "name": "stdout"
        },
        {
          "output_type": "stream",
          "text": [
            "Loss=1.5062975883483887 Batch_id=0 Accuracy=71.09:   0%|          | 0/469 [00:00<?, ?it/s]\n",
            "  0%|          | 0/469 [00:00<?, ?it/s]"
          ],
          "name": "stderr"
        },
        {
          "output_type": "stream",
          "text": [
            "\n",
            "Test set: Average loss: 2.0256, Accuracy: 2908/10000 (29.08%)\n",
            "\n",
            "Epoch -  22\n"
          ],
          "name": "stdout"
        },
        {
          "output_type": "stream",
          "text": [
            "Loss=1.5006757974624634 Batch_id=0 Accuracy=69.53:   0%|          | 0/469 [00:00<?, ?it/s]\n",
            "  0%|          | 0/469 [00:00<?, ?it/s]"
          ],
          "name": "stderr"
        },
        {
          "output_type": "stream",
          "text": [
            "\n",
            "Test set: Average loss: 1.9445, Accuracy: 3137/10000 (31.37%)\n",
            "\n",
            "Epoch -  23\n"
          ],
          "name": "stdout"
        },
        {
          "output_type": "stream",
          "text": [
            "Loss=1.4318101406097412 Batch_id=0 Accuracy=71.09:   0%|          | 0/469 [00:00<?, ?it/s]\n",
            "  0%|          | 0/469 [00:00<?, ?it/s]"
          ],
          "name": "stderr"
        },
        {
          "output_type": "stream",
          "text": [
            "\n",
            "Test set: Average loss: 1.8453, Accuracy: 3553/10000 (35.53%)\n",
            "\n",
            "Epoch -  24\n"
          ],
          "name": "stdout"
        },
        {
          "output_type": "stream",
          "text": [
            "Loss=1.4148950576782227 Batch_id=0 Accuracy=75.00:   0%|          | 0/469 [00:00<?, ?it/s]\n",
            "  0%|          | 0/469 [00:00<?, ?it/s]"
          ],
          "name": "stderr"
        },
        {
          "output_type": "stream",
          "text": [
            "\n",
            "Test set: Average loss: 1.7285, Accuracy: 4424/10000 (44.24%)\n",
            "\n",
            "Epoch -  25\n"
          ],
          "name": "stdout"
        },
        {
          "output_type": "stream",
          "text": [
            "Loss=1.3640451431274414 Batch_id=0 Accuracy=80.47:   0%|          | 0/469 [00:00<?, ?it/s]\n",
            "  0%|          | 0/469 [00:00<?, ?it/s]"
          ],
          "name": "stderr"
        },
        {
          "output_type": "stream",
          "text": [
            "\n",
            "Test set: Average loss: 1.6024, Accuracy: 5299/10000 (52.99%)\n",
            "\n",
            "Epoch -  26\n"
          ],
          "name": "stdout"
        },
        {
          "output_type": "stream",
          "text": [
            "Loss=1.311238169670105 Batch_id=0 Accuracy=74.22:   0%|          | 0/469 [00:00<?, ?it/s]\n",
            "  0%|          | 0/469 [00:00<?, ?it/s]"
          ],
          "name": "stderr"
        },
        {
          "output_type": "stream",
          "text": [
            "\n",
            "Test set: Average loss: 1.4977, Accuracy: 5797/10000 (57.97%)\n",
            "\n",
            "Epoch -  27\n"
          ],
          "name": "stdout"
        },
        {
          "output_type": "stream",
          "text": [
            "Loss=1.3007855415344238 Batch_id=0 Accuracy=80.47:   0%|          | 0/469 [00:00<?, ?it/s]\n",
            "  0%|          | 0/469 [00:00<?, ?it/s]"
          ],
          "name": "stderr"
        },
        {
          "output_type": "stream",
          "text": [
            "\n",
            "Test set: Average loss: 1.4234, Accuracy: 6120/10000 (61.20%)\n",
            "\n",
            "Epoch -  28\n"
          ],
          "name": "stdout"
        },
        {
          "output_type": "stream",
          "text": [
            "Loss=1.358852505683899 Batch_id=0 Accuracy=75.00:   0%|          | 0/469 [00:00<?, ?it/s]\n",
            "  0%|          | 0/469 [00:00<?, ?it/s]"
          ],
          "name": "stderr"
        },
        {
          "output_type": "stream",
          "text": [
            "\n",
            "Test set: Average loss: 1.3516, Accuracy: 6534/10000 (65.34%)\n",
            "\n",
            "Epoch -  29\n"
          ],
          "name": "stdout"
        },
        {
          "output_type": "stream",
          "text": [
            "Loss=1.2675530910491943 Batch_id=0 Accuracy=78.12:   0%|          | 0/469 [00:00<?, ?it/s]\n",
            "  0%|          | 0/469 [00:00<?, ?it/s]"
          ],
          "name": "stderr"
        },
        {
          "output_type": "stream",
          "text": [
            "\n",
            "Test set: Average loss: 1.2826, Accuracy: 7111/10000 (71.11%)\n",
            "\n",
            "Epoch -  30\n"
          ],
          "name": "stdout"
        },
        {
          "output_type": "stream",
          "text": [
            "Loss=1.248227596282959 Batch_id=0 Accuracy=79.69:   0%|          | 0/469 [00:00<?, ?it/s]\n",
            "  0%|          | 0/469 [00:00<?, ?it/s]"
          ],
          "name": "stderr"
        },
        {
          "output_type": "stream",
          "text": [
            "\n",
            "Test set: Average loss: 1.2254, Accuracy: 7449/10000 (74.49%)\n",
            "\n",
            "Epoch -  31\n"
          ],
          "name": "stdout"
        },
        {
          "output_type": "stream",
          "text": [
            "Loss=1.218666672706604 Batch_id=0 Accuracy=80.47:   0%|          | 0/469 [00:00<?, ?it/s]\n",
            "  0%|          | 0/469 [00:00<?, ?it/s]"
          ],
          "name": "stderr"
        },
        {
          "output_type": "stream",
          "text": [
            "\n",
            "Test set: Average loss: 1.1841, Accuracy: 7610/10000 (76.10%)\n",
            "\n",
            "Epoch -  32\n"
          ],
          "name": "stdout"
        },
        {
          "output_type": "stream",
          "text": [
            "Loss=1.1767257452011108 Batch_id=0 Accuracy=79.69:   0%|          | 0/469 [00:00<?, ?it/s]\n",
            "  0%|          | 0/469 [00:00<?, ?it/s]"
          ],
          "name": "stderr"
        },
        {
          "output_type": "stream",
          "text": [
            "\n",
            "Test set: Average loss: 1.1452, Accuracy: 7733/10000 (77.33%)\n",
            "\n",
            "Epoch -  33\n"
          ],
          "name": "stdout"
        },
        {
          "output_type": "stream",
          "text": [
            "Loss=1.1902204751968384 Batch_id=0 Accuracy=77.34:   0%|          | 0/469 [00:00<?, ?it/s]\n",
            "  0%|          | 0/469 [00:00<?, ?it/s]"
          ],
          "name": "stderr"
        },
        {
          "output_type": "stream",
          "text": [
            "\n",
            "Test set: Average loss: 1.1180, Accuracy: 7761/10000 (77.61%)\n",
            "\n",
            "Epoch -  34\n"
          ],
          "name": "stdout"
        },
        {
          "output_type": "stream",
          "text": [
            "Loss=1.1360151767730713 Batch_id=0 Accuracy=82.81:   0%|          | 0/469 [00:00<?, ?it/s]\n",
            "  0%|          | 0/469 [00:00<?, ?it/s]"
          ],
          "name": "stderr"
        },
        {
          "output_type": "stream",
          "text": [
            "\n",
            "Test set: Average loss: 1.0963, Accuracy: 7758/10000 (77.58%)\n",
            "\n",
            "Epoch -  35\n"
          ],
          "name": "stdout"
        },
        {
          "output_type": "stream",
          "text": [
            "Loss=1.035967469215393 Batch_id=0 Accuracy=84.38:   0%|          | 0/469 [00:00<?, ?it/s]\n",
            "  0%|          | 0/469 [00:00<?, ?it/s]"
          ],
          "name": "stderr"
        },
        {
          "output_type": "stream",
          "text": [
            "\n",
            "Test set: Average loss: 1.0609, Accuracy: 7824/10000 (78.24%)\n",
            "\n",
            "Epoch -  36\n"
          ],
          "name": "stdout"
        },
        {
          "output_type": "stream",
          "text": [
            "Loss=1.0350382328033447 Batch_id=0 Accuracy=84.38:   0%|          | 0/469 [00:00<?, ?it/s]\n",
            "  0%|          | 0/469 [00:00<?, ?it/s]"
          ],
          "name": "stderr"
        },
        {
          "output_type": "stream",
          "text": [
            "\n",
            "Test set: Average loss: 1.0326, Accuracy: 7950/10000 (79.50%)\n",
            "\n",
            "Epoch -  37\n"
          ],
          "name": "stdout"
        },
        {
          "output_type": "stream",
          "text": [
            "Loss=1.0914924144744873 Batch_id=0 Accuracy=82.03:   0%|          | 0/469 [00:00<?, ?it/s]\n",
            "  0%|          | 0/469 [00:00<?, ?it/s]"
          ],
          "name": "stderr"
        },
        {
          "output_type": "stream",
          "text": [
            "\n",
            "Test set: Average loss: 1.0101, Accuracy: 8067/10000 (80.67%)\n",
            "\n",
            "Epoch -  38\n"
          ],
          "name": "stdout"
        },
        {
          "output_type": "stream",
          "text": [
            "Loss=1.0333666801452637 Batch_id=0 Accuracy=85.16:   0%|          | 0/469 [00:00<?, ?it/s]\n",
            "  0%|          | 0/469 [00:00<?, ?it/s]"
          ],
          "name": "stderr"
        },
        {
          "output_type": "stream",
          "text": [
            "\n",
            "Test set: Average loss: 0.9916, Accuracy: 8204/10000 (82.04%)\n",
            "\n",
            "Epoch -  39\n"
          ],
          "name": "stdout"
        },
        {
          "output_type": "stream",
          "text": [
            "\rLoss=1.031326413154602 Batch_id=0 Accuracy=85.94:   0%|          | 0/469 [00:00<?, ?it/s]\n"
          ],
          "name": "stderr"
        },
        {
          "output_type": "stream",
          "text": [
            "\n",
            "Test set: Average loss: 0.9627, Accuracy: 8349/10000 (83.49%)\n",
            "\n"
          ],
          "name": "stdout"
        }
      ]
    },
    {
      "cell_type": "code",
      "metadata": {
        "id": "_jbzu0JzhScC",
        "colab_type": "code",
        "outputId": "53568413-669e-4ee7-820c-80abf0f5bc95",
        "colab": {
          "base_uri": "https://localhost:8080/",
          "height": 624
        }
      },
      "source": [
        "from matplotlib import pyplot as plt\n",
        "\n",
        "fig, axs = plt.subplots(2,2,figsize=(15,10))\n",
        "axs[0, 0].plot(l2_train_loss)\n",
        "axs[0, 0].set_title(\"Training Loss\")\n",
        "axs[1, 0].plot(l2_train_acc)\n",
        "axs[1, 0].set_title(\"Training Accuracy\")\n",
        "axs[0, 1].plot(l2_test_loss)\n",
        "axs[0, 1].set_title(\"Test Loss\")\n",
        "axs[1, 1].plot(l2_test_acc)\n",
        "axs[1, 1].set_title(\"Test Accuracy\")"
      ],
      "execution_count": 23,
      "outputs": [
        {
          "output_type": "execute_result",
          "data": {
            "text/plain": [
              "Text(0.5, 1.0, 'Test Accuracy')"
            ]
          },
          "metadata": {
            "tags": []
          },
          "execution_count": 23
        },
        {
          "output_type": "display_data",
          "data": {
            "image/png": "[encoded data removed]",
            "text/plain": [
              "<Figure size 1080x720 with 4 Axes>"
            ]
          },
          "metadata": {
            "tags": []
          }
        }
      ]
    },
    {
      "cell_type": "code",
      "metadata": {
        "id": "BB9xiZrzi0Ha",
        "colab_type": "code",
        "outputId": "ffbead4b-e681-42fd-a631-b45f4495c8fc",
        "colab": {
          "base_uri": "https://localhost:8080/",
          "height": 104
        }
      },
      "source": [
        "print(\"Train Loss\",l2_train_loss)\n",
        "print(\"Train Accu\",l2_train_acc)\n",
        "print(\"Test Loss\",l2_test_loss)\n",
        "print(\"Test Accu\",l2_test_acc)"
      ],
      "execution_count": 24,
      "outputs": [
        {
          "output_type": "stream",
          "text": [
            "Train Loss [tensor(2.3335, device='cuda:0', grad_fn=<NllLossBackward>), tensor(2.3055, device='cuda:0', grad_fn=<NllLossBackward>), tensor(2.2466, device='cuda:0', grad_fn=<NllLossBackward>), tensor(2.2315, device='cuda:0', grad_fn=<NllLossBackward>), tensor(2.1505, device='cuda:0', grad_fn=<NllLossBackward>), tensor(2.0791, device='cuda:0', grad_fn=<NllLossBackward>), tensor(2.0563, device='cuda:0', grad_fn=<NllLossBackward>), tensor(1.9630, device='cuda:0', grad_fn=<NllLossBackward>), tensor(1.9219, device='cuda:0', grad_fn=<NllLossBackward>), tensor(1.8733, device='cuda:0', grad_fn=<NllLossBackward>), tensor(1.8949, device='cuda:0', grad_fn=<NllLossBackward>), tensor(1.7979, device='cuda:0', grad_fn=<NllLossBackward>), tensor(1.7787, device='cuda:0', grad_fn=<NllLossBackward>), tensor(1.7836, device='cuda:0', grad_fn=<NllLossBackward>), tensor(1.7739, device='cuda:0', grad_fn=<NllLossBackward>), tensor(1.6633, device='cuda:0', grad_fn=<NllLossBackward>), tensor(1.6855, device='cuda:0', grad_fn=<NllLossBackward>), tensor(1.5959, device='cuda:0', grad_fn=<NllLossBackward>), tensor(1.6669, device='cuda:0', grad_fn=<NllLossBackward>), tensor(1.5629, device='cuda:0', grad_fn=<NllLossBackward>), tensor(1.5633, device='cuda:0', grad_fn=<NllLossBackward>), tensor(1.5063, device='cuda:0', grad_fn=<NllLossBackward>), tensor(1.5007, device='cuda:0', grad_fn=<NllLossBackward>), tensor(1.4318, device='cuda:0', grad_fn=<NllLossBackward>), tensor(1.4149, device='cuda:0', grad_fn=<NllLossBackward>), tensor(1.3640, device='cuda:0', grad_fn=<NllLossBackward>), tensor(1.3112, device='cuda:0', grad_fn=<NllLossBackward>), tensor(1.3008, device='cuda:0', grad_fn=<NllLossBackward>), tensor(1.3589, device='cuda:0', grad_fn=<NllLossBackward>), tensor(1.2676, device='cuda:0', grad_fn=<NllLossBackward>), tensor(1.2482, device='cuda:0', grad_fn=<NllLossBackward>), tensor(1.2187, device='cuda:0', grad_fn=<NllLossBackward>), tensor(1.1767, device='cuda:0', grad_fn=<NllLossBackward>), tensor(1.1902, device='cuda:0', grad_fn=<NllLossBackward>), tensor(1.1360, device='cuda:0', grad_fn=<NllLossBackward>), tensor(1.0360, device='cuda:0', grad_fn=<NllLossBackward>), tensor(1.0350, device='cuda:0', grad_fn=<NllLossBackward>), tensor(1.0915, device='cuda:0', grad_fn=<NllLossBackward>), tensor(1.0334, device='cuda:0', grad_fn=<NllLossBackward>), tensor(1.0313, device='cuda:0', grad_fn=<NllLossBackward>)]\n",
            "Train Accu [13.28125, 10.9375, 14.0625, 16.40625, 25.0, 31.25, 35.15625, 40.625, 37.5, 50.0, 48.4375, 54.6875, 54.6875, 51.5625, 50.78125, 61.71875, 57.8125, 72.65625, 65.625, 70.3125, 66.40625, 71.09375, 69.53125, 71.09375, 75.0, 80.46875, 74.21875, 80.46875, 75.0, 78.125, 79.6875, 80.46875, 79.6875, 77.34375, 82.8125, 84.375, 84.375, 82.03125, 85.15625, 85.9375]\n",
            "Test Loss [2.3025673740386963, 2.3025153438568116, 2.3024918853759764, 2.3023249671936035, 2.302107125854492, 2.30228278503418, 2.3018388832092285, 2.3014813163757326, 2.30162456741333, 2.3024523792266844, 2.3045086853027343, 2.307826807022095, 2.311113977432251, 2.313309282684326, 2.312637780761719, 2.3014607189178466, 2.2839862113952636, 2.2545045070648193, 2.2173838806152344, 2.1664572704315184, 2.101561446762085, 2.0255623737335204, 1.9445439151763917, 1.8453213638305663, 1.7284955404281617, 1.6024088808059693, 1.4976851375579834, 1.4234180422782898, 1.3516216773986816, 1.2825690574645996, 1.2253849880218506, 1.1840583532333373, 1.1452494747161865, 1.1179897277832032, 1.0962799425125123, 1.0608623022079469, 1.0325678471565247, 1.0100966190338134, 0.991605078125, 0.9627439933776856]\n",
            "Test Accu [10.09, 10.09, 10.09, 10.09, 10.11, 10.28, 10.28, 10.28, 10.28, 10.28, 10.28, 10.28, 11.33, 20.08, 20.66, 20.37, 20.19, 21.83, 23.98, 25.49, 27.26, 29.08, 31.37, 35.53, 44.24, 52.99, 57.97, 61.2, 65.34, 71.11, 74.49, 76.1, 77.33, 77.61, 77.58, 78.24, 79.5, 80.67, 82.04, 83.49]\n"
          ],
          "name": "stdout"
        }
      ]
    },
    {
      "cell_type": "code",
      "metadata": {
        "id": "4fYtHGnBv_F5",
        "colab_type": "code",
        "colab": {
          "base_uri": "https://localhost:8080/",
          "height": 858
        },
        "outputId": "74fc8bc9-38de-4a1a-cb28-9439aeed29b8"
      },
      "source": [
        "img, targ, pred = find_misclassified(model)\n",
        "plot_misclassified(img, targ, pred)"
      ],
      "execution_count": 25,
      "outputs": [
        {
          "output_type": "display_data",
          "data": {
            "image/png": "[encoded data removed]",
            "text/plain": [
              "<Figure size 1080x1296 with 25 Axes>"
            ]
          },
          "metadata": {
            "tags": []
          }
        }
      ]
    },
    {
      "cell_type": "markdown",
      "metadata": {
        "id": "AtG3agbMdZsA",
        "colab_type": "text"
      },
      "source": [
        "## With L1 and L2"
      ]
    },
    {
      "cell_type": "code",
      "metadata": {
        "id": "aLv5zamJdZ_5",
        "colab_type": "code",
        "outputId": "e6978cdf-225e-4ca0-cd49-5a6311235df6",
        "colab": {
          "base_uri": "https://localhost:8080/",
          "height": 1000
        }
      },
      "source": [
        "l12_train_acc,l12_train_loss,l12_test_acc,l12_test_loss = run_model(l1=0.000001,l2=0.000001)"
      ],
      "execution_count": 26,
      "outputs": [
        {
          "output_type": "stream",
          "text": [
            "\r  0%|          | 0/469 [00:00<?, ?it/s]"
          ],
          "name": "stderr"
        },
        {
          "output_type": "stream",
          "text": [
            "Epoch -  0\n"
          ],
          "name": "stdout"
        },
        {
          "output_type": "stream",
          "text": [
            "Loss=2.295003890991211 Batch_id=0 Accuracy=13.28:   0%|          | 0/469 [00:00<?, ?it/s]\n",
            "  0%|          | 0/469 [00:00<?, ?it/s]"
          ],
          "name": "stderr"
        },
        {
          "output_type": "stream",
          "text": [
            "\n",
            "Test set: Average loss: 2.3025, Accuracy: 1028/10000 (10.28%)\n",
            "\n",
            "Epoch -  1\n"
          ],
          "name": "stdout"
        },
        {
          "output_type": "stream",
          "text": [
            "Loss=2.351454496383667 Batch_id=0 Accuracy=6.25:   0%|          | 0/469 [00:00<?, ?it/s]\n",
            "  0%|          | 0/469 [00:00<?, ?it/s]"
          ],
          "name": "stderr"
        },
        {
          "output_type": "stream",
          "text": [
            "\n",
            "Test set: Average loss: 2.3026, Accuracy: 1028/10000 (10.28%)\n",
            "\n",
            "Epoch -  2\n"
          ],
          "name": "stdout"
        },
        {
          "output_type": "stream",
          "text": [
            "Loss=2.3090779781341553 Batch_id=0 Accuracy=10.94:   0%|          | 0/469 [00:00<?, ?it/s]\n",
            "  0%|          | 0/469 [00:00<?, ?it/s]"
          ],
          "name": "stderr"
        },
        {
          "output_type": "stream",
          "text": [
            "\n",
            "Test set: Average loss: 2.3028, Accuracy: 1028/10000 (10.28%)\n",
            "\n",
            "Epoch -  3\n"
          ],
          "name": "stdout"
        },
        {
          "output_type": "stream",
          "text": [
            "Loss=2.2350914478302 Batch_id=0 Accuracy=21.88:   0%|          | 0/469 [00:00<?, ?it/s]\n",
            "  0%|          | 0/469 [00:00<?, ?it/s]"
          ],
          "name": "stderr"
        },
        {
          "output_type": "stream",
          "text": [
            "\n",
            "Test set: Average loss: 2.3029, Accuracy: 1028/10000 (10.28%)\n",
            "\n",
            "Epoch -  4\n"
          ],
          "name": "stdout"
        },
        {
          "output_type": "stream",
          "text": [
            "Loss=2.2041704654693604 Batch_id=0 Accuracy=25.00:   0%|          | 0/469 [00:00<?, ?it/s]\n",
            "  0%|          | 0/469 [00:00<?, ?it/s]"
          ],
          "name": "stderr"
        },
        {
          "output_type": "stream",
          "text": [
            "\n",
            "Test set: Average loss: 2.3031, Accuracy: 1028/10000 (10.28%)\n",
            "\n",
            "Epoch -  5\n"
          ],
          "name": "stdout"
        },
        {
          "output_type": "stream",
          "text": [
            "Loss=2.1889004707336426 Batch_id=0 Accuracy=29.69:   0%|          | 0/469 [00:00<?, ?it/s]\n",
            "  0%|          | 0/469 [00:00<?, ?it/s]"
          ],
          "name": "stderr"
        },
        {
          "output_type": "stream",
          "text": [
            "\n",
            "Test set: Average loss: 2.3033, Accuracy: 1028/10000 (10.28%)\n",
            "\n",
            "Epoch -  6\n"
          ],
          "name": "stdout"
        },
        {
          "output_type": "stream",
          "text": [
            "Loss=2.1356699466705322 Batch_id=0 Accuracy=35.94:   0%|          | 0/469 [00:00<?, ?it/s]\n",
            "  0%|          | 0/469 [00:00<?, ?it/s]"
          ],
          "name": "stderr"
        },
        {
          "output_type": "stream",
          "text": [
            "\n",
            "Test set: Average loss: 2.3033, Accuracy: 1028/10000 (10.28%)\n",
            "\n",
            "Epoch -  7\n"
          ],
          "name": "stdout"
        },
        {
          "output_type": "stream",
          "text": [
            "Loss=2.070551633834839 Batch_id=0 Accuracy=41.41:   0%|          | 0/469 [00:00<?, ?it/s]\n",
            "  0%|          | 0/469 [00:00<?, ?it/s]"
          ],
          "name": "stderr"
        },
        {
          "output_type": "stream",
          "text": [
            "\n",
            "Test set: Average loss: 2.3033, Accuracy: 1028/10000 (10.28%)\n",
            "\n",
            "Epoch -  8\n"
          ],
          "name": "stdout"
        },
        {
          "output_type": "stream",
          "text": [
            "Loss=2.0440213680267334 Batch_id=0 Accuracy=48.44:   0%|          | 0/469 [00:00<?, ?it/s]\n",
            "  0%|          | 0/469 [00:00<?, ?it/s]"
          ],
          "name": "stderr"
        },
        {
          "output_type": "stream",
          "text": [
            "\n",
            "Test set: Average loss: 2.3031, Accuracy: 1028/10000 (10.28%)\n",
            "\n",
            "Epoch -  9\n"
          ],
          "name": "stdout"
        },
        {
          "output_type": "stream",
          "text": [
            "Loss=1.939383625984192 Batch_id=0 Accuracy=55.47:   0%|          | 0/469 [00:00<?, ?it/s]\n",
            "  0%|          | 0/469 [00:00<?, ?it/s]"
          ],
          "name": "stderr"
        },
        {
          "output_type": "stream",
          "text": [
            "\n",
            "Test set: Average loss: 2.3027, Accuracy: 1028/10000 (10.28%)\n",
            "\n",
            "Epoch -  10\n"
          ],
          "name": "stdout"
        },
        {
          "output_type": "stream",
          "text": [
            "Loss=1.9444003105163574 Batch_id=0 Accuracy=46.88:   0%|          | 0/469 [00:00<?, ?it/s]\n",
            "  0%|          | 0/469 [00:00<?, ?it/s]"
          ],
          "name": "stderr"
        },
        {
          "output_type": "stream",
          "text": [
            "\n",
            "Test set: Average loss: 2.3018, Accuracy: 1028/10000 (10.28%)\n",
            "\n",
            "Epoch -  11\n"
          ],
          "name": "stdout"
        },
        {
          "output_type": "stream",
          "text": [
            "Loss=1.814475655555725 Batch_id=0 Accuracy=63.28:   0%|          | 0/469 [00:00<?, ?it/s]\n",
            "  0%|          | 0/469 [00:00<?, ?it/s]"
          ],
          "name": "stderr"
        },
        {
          "output_type": "stream",
          "text": [
            "\n",
            "Test set: Average loss: 2.2995, Accuracy: 1118/10000 (11.18%)\n",
            "\n",
            "Epoch -  12\n"
          ],
          "name": "stdout"
        },
        {
          "output_type": "stream",
          "text": [
            "Loss=1.8077975511550903 Batch_id=0 Accuracy=60.94:   0%|          | 0/469 [00:00<?, ?it/s]\n",
            "  0%|          | 0/469 [00:00<?, ?it/s]"
          ],
          "name": "stderr"
        },
        {
          "output_type": "stream",
          "text": [
            "\n",
            "Test set: Average loss: 2.2946, Accuracy: 2058/10000 (20.58%)\n",
            "\n",
            "Epoch -  13\n"
          ],
          "name": "stdout"
        },
        {
          "output_type": "stream",
          "text": [
            "Loss=1.73417067527771 Batch_id=0 Accuracy=72.66:   0%|          | 0/469 [00:00<?, ?it/s]\n",
            "  0%|          | 0/469 [00:00<?, ?it/s]"
          ],
          "name": "stderr"
        },
        {
          "output_type": "stream",
          "text": [
            "\n",
            "Test set: Average loss: 2.2867, Accuracy: 2122/10000 (21.22%)\n",
            "\n",
            "Epoch -  14\n"
          ],
          "name": "stdout"
        },
        {
          "output_type": "stream",
          "text": [
            "Loss=1.7507976293563843 Batch_id=0 Accuracy=60.94:   0%|          | 0/469 [00:00<?, ?it/s]\n",
            "  0%|          | 0/469 [00:00<?, ?it/s]"
          ],
          "name": "stderr"
        },
        {
          "output_type": "stream",
          "text": [
            "\n",
            "Test set: Average loss: 2.2742, Accuracy: 2095/10000 (20.95%)\n",
            "\n",
            "Epoch -  15\n"
          ],
          "name": "stdout"
        },
        {
          "output_type": "stream",
          "text": [
            "Loss=1.6486481428146362 Batch_id=0 Accuracy=76.56:   0%|          | 0/469 [00:00<?, ?it/s]\n",
            "  0%|          | 0/469 [00:00<?, ?it/s]"
          ],
          "name": "stderr"
        },
        {
          "output_type": "stream",
          "text": [
            "\n",
            "Test set: Average loss: 2.2554, Accuracy: 2073/10000 (20.73%)\n",
            "\n",
            "Epoch -  16\n"
          ],
          "name": "stdout"
        },
        {
          "output_type": "stream",
          "text": [
            "Loss=1.6648868322372437 Batch_id=0 Accuracy=70.31:   0%|          | 0/469 [00:00<?, ?it/s]\n",
            "  0%|          | 0/469 [00:00<?, ?it/s]"
          ],
          "name": "stderr"
        },
        {
          "output_type": "stream",
          "text": [
            "\n",
            "Test set: Average loss: 2.2276, Accuracy: 2491/10000 (24.91%)\n",
            "\n",
            "Epoch -  17\n"
          ],
          "name": "stdout"
        },
        {
          "output_type": "stream",
          "text": [
            "Loss=1.6182323694229126 Batch_id=0 Accuracy=69.53:   0%|          | 0/469 [00:00<?, ?it/s]\n",
            "  0%|          | 0/469 [00:00<?, ?it/s]"
          ],
          "name": "stderr"
        },
        {
          "output_type": "stream",
          "text": [
            "\n",
            "Test set: Average loss: 2.1900, Accuracy: 2711/10000 (27.11%)\n",
            "\n",
            "Epoch -  18\n"
          ],
          "name": "stdout"
        },
        {
          "output_type": "stream",
          "text": [
            "Loss=1.5489826202392578 Batch_id=0 Accuracy=71.88:   0%|          | 0/469 [00:00<?, ?it/s]\n",
            "  0%|          | 0/469 [00:00<?, ?it/s]"
          ],
          "name": "stderr"
        },
        {
          "output_type": "stream",
          "text": [
            "\n",
            "Test set: Average loss: 2.1478, Accuracy: 2767/10000 (27.67%)\n",
            "\n",
            "Epoch -  19\n"
          ],
          "name": "stdout"
        },
        {
          "output_type": "stream",
          "text": [
            "Loss=1.535031795501709 Batch_id=0 Accuracy=76.56:   0%|          | 0/469 [00:00<?, ?it/s]\n",
            "  0%|          | 0/469 [00:00<?, ?it/s]"
          ],
          "name": "stderr"
        },
        {
          "output_type": "stream",
          "text": [
            "\n",
            "Test set: Average loss: 2.0990, Accuracy: 2809/10000 (28.09%)\n",
            "\n",
            "Epoch -  20\n"
          ],
          "name": "stdout"
        },
        {
          "output_type": "stream",
          "text": [
            "Loss=1.4561207294464111 Batch_id=0 Accuracy=80.47:   0%|          | 0/469 [00:00<?, ?it/s]\n",
            "  0%|          | 0/469 [00:00<?, ?it/s]"
          ],
          "name": "stderr"
        },
        {
          "output_type": "stream",
          "text": [
            "\n",
            "Test set: Average loss: 2.0370, Accuracy: 2969/10000 (29.69%)\n",
            "\n",
            "Epoch -  21\n"
          ],
          "name": "stdout"
        },
        {
          "output_type": "stream",
          "text": [
            "Loss=1.4726629257202148 Batch_id=0 Accuracy=74.22:   0%|          | 0/469 [00:00<?, ?it/s]\n",
            "  0%|          | 0/469 [00:00<?, ?it/s]"
          ],
          "name": "stderr"
        },
        {
          "output_type": "stream",
          "text": [
            "\n",
            "Test set: Average loss: 1.9616, Accuracy: 3426/10000 (34.26%)\n",
            "\n",
            "Epoch -  22\n"
          ],
          "name": "stdout"
        },
        {
          "output_type": "stream",
          "text": [
            "Loss=1.3390339612960815 Batch_id=0 Accuracy=86.72:   0%|          | 0/469 [00:00<?, ?it/s]\n",
            "  0%|          | 0/469 [00:00<?, ?it/s]"
          ],
          "name": "stderr"
        },
        {
          "output_type": "stream",
          "text": [
            "\n",
            "Test set: Average loss: 1.8765, Accuracy: 4185/10000 (41.85%)\n",
            "\n",
            "Epoch -  23\n"
          ],
          "name": "stdout"
        },
        {
          "output_type": "stream",
          "text": [
            "Loss=1.3736190795898438 Batch_id=0 Accuracy=82.81:   0%|          | 0/469 [00:00<?, ?it/s]\n",
            "  0%|          | 0/469 [00:00<?, ?it/s]"
          ],
          "name": "stderr"
        },
        {
          "output_type": "stream",
          "text": [
            "\n",
            "Test set: Average loss: 1.7740, Accuracy: 5184/10000 (51.84%)\n",
            "\n",
            "Epoch -  24\n"
          ],
          "name": "stdout"
        },
        {
          "output_type": "stream",
          "text": [
            "Loss=1.3857946395874023 Batch_id=0 Accuracy=81.25:   0%|          | 0/469 [00:00<?, ?it/s]\n",
            "  0%|          | 0/469 [00:00<?, ?it/s]"
          ],
          "name": "stderr"
        },
        {
          "output_type": "stream",
          "text": [
            "\n",
            "Test set: Average loss: 1.6762, Accuracy: 6086/10000 (60.86%)\n",
            "\n",
            "Epoch -  25\n"
          ],
          "name": "stdout"
        },
        {
          "output_type": "stream",
          "text": [
            "Loss=1.332263708114624 Batch_id=0 Accuracy=84.38:   0%|          | 0/469 [00:00<?, ?it/s]\n",
            "  0%|          | 0/469 [00:00<?, ?it/s]"
          ],
          "name": "stderr"
        },
        {
          "output_type": "stream",
          "text": [
            "\n",
            "Test set: Average loss: 1.5763, Accuracy: 6861/10000 (68.61%)\n",
            "\n",
            "Epoch -  26\n"
          ],
          "name": "stdout"
        },
        {
          "output_type": "stream",
          "text": [
            "Loss=1.3285584449768066 Batch_id=0 Accuracy=80.47:   0%|          | 0/469 [00:00<?, ?it/s]\n",
            "  0%|          | 0/469 [00:00<?, ?it/s]"
          ],
          "name": "stderr"
        },
        {
          "output_type": "stream",
          "text": [
            "\n",
            "Test set: Average loss: 1.4963, Accuracy: 7427/10000 (74.27%)\n",
            "\n",
            "Epoch -  27\n"
          ],
          "name": "stdout"
        },
        {
          "output_type": "stream",
          "text": [
            "Loss=1.1980386972427368 Batch_id=0 Accuracy=92.19:   0%|          | 0/469 [00:00<?, ?it/s]\n",
            "  0%|          | 0/469 [00:00<?, ?it/s]"
          ],
          "name": "stderr"
        },
        {
          "output_type": "stream",
          "text": [
            "\n",
            "Test set: Average loss: 1.4283, Accuracy: 7737/10000 (77.37%)\n",
            "\n",
            "Epoch -  28\n"
          ],
          "name": "stdout"
        },
        {
          "output_type": "stream",
          "text": [
            "Loss=1.3118433952331543 Batch_id=0 Accuracy=79.69:   0%|          | 0/469 [00:00<?, ?it/s]\n",
            "  0%|          | 0/469 [00:00<?, ?it/s]"
          ],
          "name": "stderr"
        },
        {
          "output_type": "stream",
          "text": [
            "\n",
            "Test set: Average loss: 1.3617, Accuracy: 7975/10000 (79.75%)\n",
            "\n",
            "Epoch -  29\n"
          ],
          "name": "stdout"
        },
        {
          "output_type": "stream",
          "text": [
            "Loss=1.182223916053772 Batch_id=0 Accuracy=87.50:   0%|          | 0/469 [00:00<?, ?it/s]\n",
            "  0%|          | 0/469 [00:00<?, ?it/s]"
          ],
          "name": "stderr"
        },
        {
          "output_type": "stream",
          "text": [
            "\n",
            "Test set: Average loss: 1.3066, Accuracy: 8180/10000 (81.80%)\n",
            "\n",
            "Epoch -  30\n"
          ],
          "name": "stdout"
        },
        {
          "output_type": "stream",
          "text": [
            "Loss=1.1478779315948486 Batch_id=0 Accuracy=88.28:   0%|          | 0/469 [00:00<?, ?it/s]\n",
            "  0%|          | 0/469 [00:00<?, ?it/s]"
          ],
          "name": "stderr"
        },
        {
          "output_type": "stream",
          "text": [
            "\n",
            "Test set: Average loss: 1.2577, Accuracy: 8376/10000 (83.76%)\n",
            "\n",
            "Epoch -  31\n"
          ],
          "name": "stdout"
        },
        {
          "output_type": "stream",
          "text": [
            "Loss=1.0925661325454712 Batch_id=0 Accuracy=92.19:   0%|          | 0/469 [00:00<?, ?it/s]\n",
            "  0%|          | 0/469 [00:00<?, ?it/s]"
          ],
          "name": "stderr"
        },
        {
          "output_type": "stream",
          "text": [
            "\n",
            "Test set: Average loss: 1.1995, Accuracy: 8532/10000 (85.32%)\n",
            "\n",
            "Epoch -  32\n"
          ],
          "name": "stdout"
        },
        {
          "output_type": "stream",
          "text": [
            "Loss=1.1132686138153076 Batch_id=0 Accuracy=89.06:   0%|          | 0/469 [00:00<?, ?it/s]\n",
            "  0%|          | 0/469 [00:00<?, ?it/s]"
          ],
          "name": "stderr"
        },
        {
          "output_type": "stream",
          "text": [
            "\n",
            "Test set: Average loss: 1.1314, Accuracy: 8650/10000 (86.50%)\n",
            "\n",
            "Epoch -  33\n"
          ],
          "name": "stdout"
        },
        {
          "output_type": "stream",
          "text": [
            "Loss=1.1007544994354248 Batch_id=0 Accuracy=87.50:   0%|          | 0/469 [00:00<?, ?it/s]\n",
            "  0%|          | 0/469 [00:00<?, ?it/s]"
          ],
          "name": "stderr"
        },
        {
          "output_type": "stream",
          "text": [
            "\n",
            "Test set: Average loss: 1.0743, Accuracy: 8729/10000 (87.29%)\n",
            "\n",
            "Epoch -  34\n"
          ],
          "name": "stdout"
        },
        {
          "output_type": "stream",
          "text": [
            "Loss=1.0472993850708008 Batch_id=0 Accuracy=92.97:   0%|          | 0/469 [00:00<?, ?it/s]\n",
            "  0%|          | 0/469 [00:00<?, ?it/s]"
          ],
          "name": "stderr"
        },
        {
          "output_type": "stream",
          "text": [
            "\n",
            "Test set: Average loss: 1.0231, Accuracy: 8766/10000 (87.66%)\n",
            "\n",
            "Epoch -  35\n"
          ],
          "name": "stdout"
        },
        {
          "output_type": "stream",
          "text": [
            "Loss=1.0513819456100464 Batch_id=0 Accuracy=86.72:   0%|          | 0/469 [00:00<?, ?it/s]\n",
            "  0%|          | 0/469 [00:00<?, ?it/s]"
          ],
          "name": "stderr"
        },
        {
          "output_type": "stream",
          "text": [
            "\n",
            "Test set: Average loss: 0.9854, Accuracy: 8726/10000 (87.26%)\n",
            "\n",
            "Epoch -  36\n"
          ],
          "name": "stdout"
        },
        {
          "output_type": "stream",
          "text": [
            "Loss=1.067751169204712 Batch_id=0 Accuracy=85.94:   0%|          | 0/469 [00:00<?, ?it/s]\n",
            "  0%|          | 0/469 [00:00<?, ?it/s]"
          ],
          "name": "stderr"
        },
        {
          "output_type": "stream",
          "text": [
            "\n",
            "Test set: Average loss: 0.9484, Accuracy: 8689/10000 (86.89%)\n",
            "\n",
            "Epoch -  37\n"
          ],
          "name": "stdout"
        },
        {
          "output_type": "stream",
          "text": [
            "Loss=1.0027579069137573 Batch_id=0 Accuracy=89.06:   0%|          | 0/469 [00:00<?, ?it/s]\n",
            "  0%|          | 0/469 [00:00<?, ?it/s]"
          ],
          "name": "stderr"
        },
        {
          "output_type": "stream",
          "text": [
            "\n",
            "Test set: Average loss: 0.9192, Accuracy: 8746/10000 (87.46%)\n",
            "\n",
            "Epoch -  38\n"
          ],
          "name": "stdout"
        },
        {
          "output_type": "stream",
          "text": [
            "Loss=1.090625524520874 Batch_id=0 Accuracy=81.25:   0%|          | 0/469 [00:00<?, ?it/s]\n",
            "  0%|          | 0/469 [00:00<?, ?it/s]"
          ],
          "name": "stderr"
        },
        {
          "output_type": "stream",
          "text": [
            "\n",
            "Test set: Average loss: 0.8880, Accuracy: 8873/10000 (88.73%)\n",
            "\n",
            "Epoch -  39\n"
          ],
          "name": "stdout"
        },
        {
          "output_type": "stream",
          "text": [
            "\rLoss=1.0733592510223389 Batch_id=0 Accuracy=84.38:   0%|          | 0/469 [00:00<?, ?it/s]\n"
          ],
          "name": "stderr"
        },
        {
          "output_type": "stream",
          "text": [
            "\n",
            "Test set: Average loss: 0.8732, Accuracy: 8892/10000 (88.92%)\n",
            "\n"
          ],
          "name": "stdout"
        }
      ]
    },
    {
      "cell_type": "code",
      "metadata": {
        "id": "87RaqGSEOWDe",
        "colab_type": "code",
        "outputId": "182ae9af-6ee3-4e5b-f913-95d5304bcddd",
        "colab": {
          "base_uri": "https://localhost:8080/",
          "height": 624
        }
      },
      "source": [
        "from matplotlib import pyplot as plt\n",
        "\n",
        "fig, axs = plt.subplots(2,2,figsize=(15,10))\n",
        "axs[0, 0].plot(l12_train_loss)\n",
        "axs[0, 0].set_title(\"Training Loss\")\n",
        "axs[1, 0].plot(l12_train_acc)\n",
        "axs[1, 0].set_title(\"Training Accuracy\")\n",
        "axs[0, 1].plot(l12_test_loss)\n",
        "axs[0, 1].set_title(\"Test Loss\")\n",
        "axs[1, 1].plot(l12_test_acc)\n",
        "axs[1, 1].set_title(\"Test Accuracy\")"
      ],
      "execution_count": 27,
      "outputs": [
        {
          "output_type": "execute_result",
          "data": {
            "text/plain": [
              "Text(0.5, 1.0, 'Test Accuracy')"
            ]
          },
          "metadata": {
            "tags": []
          },
          "execution_count": 27
        },
        {
          "output_type": "display_data",
          "data": {
            "image/png": "[encoded data removed]",
            "text/plain": [
              "<Figure size 1080x720 with 4 Axes>"
            ]
          },
          "metadata": {
            "tags": []
          }
        }
      ]
    },
    {
      "cell_type": "code",
      "metadata": {
        "id": "ms7k2W9cwiyb",
        "colab_type": "code",
        "colab": {
          "base_uri": "https://localhost:8080/",
          "height": 858
        },
        "outputId": "a1a81456-2ab4-489d-8a6b-96772ea01b03"
      },
      "source": [
        "img, targ, pred = find_misclassified(model)\n",
        "plot_misclassified(img, targ, pred)"
      ],
      "execution_count": 28,
      "outputs": [
        {
          "output_type": "display_data",
          "data": {
            "image/png": "[encoded data removed]",
            "text/plain": [
              "<Figure size 1080x1296 with 25 Axes>"
            ]
          },
          "metadata": {
            "tags": []
          }
        }
      ]
    },
    {
      "cell_type": "code",
      "metadata": {
        "id": "4tPQmcmDclaE",
        "colab_type": "code",
        "outputId": "9cb00088-0255-44b5-afb9-bdf826da9633",
        "colab": {
          "base_uri": "https://localhost:8080/",
          "height": 584
        }
      },
      "source": [
        "fig, axs = plt.subplots(1,1,figsize=(12,9))\n",
        "\n",
        "\n",
        "axs.plot(w_test_acc, label='Without L1, L2')\n",
        "axs.plot(l1_test_acc, label='With L1')\n",
        "axs.plot(l12_test_acc, label='With L1, L2')\n",
        "axs.plot(l2_test_acc, label='With L2')\n",
        "axs.set_title(\"Validation Accuracy vs Epochs\")\n",
        "axs.set_xlabel(\"Epoch\")\n",
        "axs.set_ylabel(\"Accuracy\")\n",
        "axs.legend(loc='lower right', prop={'size': 18})"
      ],
      "execution_count": 29,
      "outputs": [
        {
          "output_type": "execute_result",
          "data": {
            "text/plain": [
              "<matplotlib.legend.Legend at 0x7f5af152b4a8>"
            ]
          },
          "metadata": {
            "tags": []
          },
          "execution_count": 29
        },
        {
          "output_type": "display_data",
          "data": {
            "image/png": "[encoded data removed]",
            "text/plain": [
              "<Figure size 864x648 with 1 Axes>"
            ]
          },
          "metadata": {
            "tags": []
          }
        }
      ]
    },
    {
      "cell_type": "code",
      "metadata": {
        "id": "NgEpL5WGcXaf",
        "colab_type": "code",
        "outputId": "56b019a3-a6fe-405c-e687-b3c4e03ffb1a",
        "colab": {
          "base_uri": "https://localhost:8080/",
          "height": 584
        }
      },
      "source": [
        "fig, axs = plt.subplots(1,1,figsize=(12,9))\n",
        "\n",
        "\n",
        "axs.plot(w_test_loss, label='Without L1, L2')\n",
        "axs.plot(l1_test_loss, label='With L1')\n",
        "axs.plot(l12_test_loss, label='With L1, L2')\n",
        "axs.plot(l2_test_loss, label='With L2')\n",
        "axs.set_title(\"Validation Losses vs Epochs\")\n",
        "axs.set_xlabel(\"Epoch\")\n",
        "axs.set_ylabel(\"Losses\")\n",
        "axs.legend(loc='upper right', prop={'size': 18})"
      ],
      "execution_count": 30,
      "outputs": [
        {
          "output_type": "execute_result",
          "data": {
            "text/plain": [
              "<matplotlib.legend.Legend at 0x7f5af1440e80>"
            ]
          },
          "metadata": {
            "tags": []
          },
          "execution_count": 30
        },
        {
          "output_type": "display_data",
          "data": {
            "image/png": "[encoded data removed]",
            "text/plain": [
              "<Figure size 864x648 with 1 Axes>"
            ]
          },
          "metadata": {
            "tags": []
          }
        }
      ]
    },
    {
      "cell_type": "code",
      "metadata": {
        "id": "klrNpJ3b1Jl1",
        "colab_type": "code",
        "colab": {}
      },
      "source": [
        ""
      ],
      "execution_count": 0,
      "outputs": []
    }
  ]
}